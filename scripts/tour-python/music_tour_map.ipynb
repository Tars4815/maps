{
 "cells": [
  {
   "cell_type": "markdown",
   "id": "dec9c765-8771-4bee-b565-95a3edbd4cf0",
   "metadata": {},
   "source": [
    "# Maps of music tours\n",
    "Example of script for making maps of music tour by singers based on Wikipedia information, using pandas, geopandas and geopy."
   ]
  },
  {
   "cell_type": "code",
   "execution_count": null,
   "id": "0b8ce167-4e68-4374-ab2a-a7f6773e34b9",
   "metadata": {},
   "outputs": [],
   "source": [
    "import pandas\n",
    "import geopandas\n",
    "from pyproj import CRS\n",
    "import geoplot\n",
    "import requests\n",
    "from bs4 import BeautifulSoup\n",
    "import geopy\n",
    "from geopy.geocoders import Nominatim\n",
    "from geopy.extra.rate_limiter import RateLimiter\n",
    "import matplotlib.pyplot as plt"
   ]
  },
  {
   "cell_type": "markdown",
   "id": "e9873858-4464-47e1-b01a-f1297254073a",
   "metadata": {},
   "source": [
    "## Scraping data from Wikipedia page\n",
    "Defining the target page with a table containing the tour date."
   ]
  },
  {
   "cell_type": "code",
   "execution_count": null,
   "id": "87fdc635-3098-4554-b9c3-2c81fe1b7467",
   "metadata": {},
   "outputs": [],
   "source": [
    "# Defining the url of the Wikipedia page to be scraped\n",
    "page_url = 'https://en.wikipedia.org/wiki/The_Mrs._Carter_Show_World_Tour#Shows'\n",
    "# Verifying the possibility to scrape the given page\n",
    "response=requests.get(page_url)\n",
    "print(response.status_code)"
   ]
  },
  {
   "cell_type": "code",
   "execution_count": null,
   "id": "e89d567c-bd53-43ef-af15-d315dd62df41",
   "metadata": {},
   "outputs": [],
   "source": [
    "# Parse data from the html into a beautifulsoup object\n",
    "soup = BeautifulSoup(response.text, 'html.parser')\n",
    "tour_places=soup.find('table',{'class':\"wikitable\"})"
   ]
  },
  {
   "cell_type": "code",
   "execution_count": null,
   "id": "3428f729-78b7-42c7-bfe0-ab6789331aeb",
   "metadata": {},
   "outputs": [],
   "source": [
    "# Checking a portion of the resulting object\n",
    "tour_places.text[:500]"
   ]
  },
  {
   "cell_type": "code",
   "execution_count": null,
   "id": "161f0c3a-81ab-400d-a009-dfaf9de5d721",
   "metadata": {},
   "outputs": [],
   "source": [
    "# Transforming the response into a pandas object\n",
    "df=pandas.read_html(str(tour_places))\n",
    "# Converting list to dataframe\n",
    "df=pandas.DataFrame(df[0])\n",
    "df.head()\n",
    "df.tail()"
   ]
  },
  {
   "cell_type": "code",
   "execution_count": null,
   "id": "bc890276-ce82-45bd-b6d8-6eb5e2f8c345",
   "metadata": {},
   "outputs": [],
   "source": [
    "# Checking column titles\n",
    "df.columns"
   ]
  },
  {
   "cell_type": "code",
   "execution_count": null,
   "id": "b4a98807-441d-4a33-beb6-7474b95e975b",
   "metadata": {},
   "outputs": [],
   "source": [
    "# Creating a new dataframe containing only the columns of interest\n",
    "new_df = df[['Date', 'City', 'Country','Venue', 'Attendance', 'Revenue']]\n",
    "# Removing the last row contatining the Total\n",
    "new_df = new_df.drop([139])\n",
    "new_df"
   ]
  },
  {
   "cell_type": "code",
   "execution_count": null,
   "id": "d57a0d9e-13c8-4bc1-ae4d-8777f650b847",
   "metadata": {},
   "outputs": [],
   "source": [
    "# Replacing text values containing a comma\n",
    "new_df = new_df.replace('Washington, D.C.', 'Washington D.C.')"
   ]
  },
  {
   "cell_type": "code",
   "execution_count": null,
   "id": "c4e3c286-8c27-4f58-b674-245495d40a6e",
   "metadata": {},
   "outputs": [],
   "source": [
    "# Creating new column in the dataframe with the addresses\n",
    "new_df['location'] = new_df['City'] + ', ' + new_df['Country']\n",
    "new_df['location']"
   ]
  },
  {
   "cell_type": "code",
   "execution_count": null,
   "id": "340de033-ece2-472a-99cb-17692852100e",
   "metadata": {},
   "outputs": [],
   "source": [
    "new_df.head()"
   ]
  },
  {
   "cell_type": "code",
   "execution_count": null,
   "id": "e68506a4-3013-4b6d-bd44-11b40bb6367d",
   "metadata": {},
   "outputs": [],
   "source": [
    "# Defining the locator element\n",
    "locator = Nominatim(user_agent='prova')\n",
    "# Defining a function to delay between geocoding calls\n",
    "geocode = RateLimiter(locator.geocode, min_delay_seconds=1.5)\n",
    "# Creating location column\n",
    "new_df['location2'] = new_df['location'].apply(geocode)\n",
    "# Creating longitude, laatitude and altitude from location column (returns tuple)\n",
    "new_df['point'] = new_df['location2'].apply(lambda loc: tuple(loc.point) if loc else None)\n",
    "# Splitting point column into latitude, longitude and altitude columns\n",
    "new_df[['latitude', 'longitude', 'altitude']] = pandas.DataFrame(new_df['point'].tolist(), index=new_df.index)"
   ]
  },
  {
   "cell_type": "code",
   "execution_count": null,
   "id": "f94d604f-0488-44ed-9dbe-36b3a5dd8fb7",
   "metadata": {},
   "outputs": [],
   "source": [
    "new_df.head()"
   ]
  },
  {
   "cell_type": "code",
   "execution_count": null,
   "id": "3dcba54a-aa0f-41b3-a5e8-fb8e39ad71b5",
   "metadata": {},
   "outputs": [],
   "source": [
    "# Checking the presence of null values\n",
    "new_df['latitude'].isna().sum()"
   ]
  },
  {
   "cell_type": "code",
   "execution_count": null,
   "id": "1a2983c3-474d-4014-83e7-c74c4054a5ff",
   "metadata": {},
   "outputs": [],
   "source": [
    "# Checking rows where the geolocator failed to attach coordinates values\n",
    "new_df[new_df['latitude'].isna()]"
   ]
  },
  {
   "cell_type": "code",
   "execution_count": null,
   "id": "a2b1b983-3c2a-49e5-9ca2-41d8c2c1e1d4",
   "metadata": {},
   "outputs": [],
   "source": [
    "# Cleaning the dataframe by removing the not relevant null values\n",
    "new_df = new_df[new_df['latitude'].notna()]\n",
    "new_df.reset_index(drop=True, inplace=True)\n",
    "new_df.head()"
   ]
  },
  {
   "cell_type": "code",
   "execution_count": null,
   "id": "eeaf531f-d27a-4fe9-b1fb-b794d07c5d8b",
   "metadata": {},
   "outputs": [],
   "source": [
    "# Create geodataframe from dataframe\n",
    "gdf = geopandas.GeoDataFrame(new_df, geometry=geopandas.points_from_xy(new_df.longitude, new_df.latitude))"
   ]
  },
  {
   "cell_type": "code",
   "execution_count": null,
   "id": "f07b9dae-c827-413f-aab2-f567bb47caa5",
   "metadata": {},
   "outputs": [],
   "source": [
    "gdf.head()"
   ]
  },
  {
   "cell_type": "code",
   "execution_count": null,
   "id": "9a1f5a20-1ae5-40eb-baf9-e81799e91534",
   "metadata": {},
   "outputs": [],
   "source": [
    "# Adding world base map\n",
    "world = geopandas.read_file('ne_10m_admin_0_countries.shp')"
   ]
  },
  {
   "cell_type": "code",
   "execution_count": null,
   "id": "eff3d8ea-eef1-4d22-a4b1-19caefd1ac81",
   "metadata": {},
   "outputs": [],
   "source": [
    "#Plotting results\n",
    "fig, ax = plt.subplots(figsize=(24,18))\n",
    "world.plot(ax=ax, alpha=0.4, color='grey')\n",
    "gdf.plot(ax=ax)"
   ]
  },
  {
   "cell_type": "code",
   "execution_count": null,
   "id": "0664134d-f0ca-427b-bf04-f20a9885bf88",
   "metadata": {},
   "outputs": [],
   "source": [
    "gdf.columns\n",
    "col_rename= {\"Date\": \"Date\",\n",
    "             \"'City', 'Leg 1 — Europe[6][123][124][125]'\": \"City\",\n",
    "             \"'Country', 'Leg 1 — Europe[6][123][124][125]'\": \"Country\",\n",
    "             \"'Venue', 'Leg 1 — Europe[6][123][124][125]')\": \"Venue\",\n",
    "             \"'Attendance', 'Leg 1 — Europe[6][123][124][125]'\": \"Attendance\",\n",
    "             \"'Revenue', 'Leg 1 — Europe[6][123][124][125]'\": \"Revenue\"\n",
    "}\n",
    "gdf.columns = ['Date', 'City', 'Country', 'Venue', 'Attendance', 'Revenue', 'location', 'location2', 'point', 'latitude', 'longitude', 'altitude', 'geometry']\n",
    "gdf.head()"
   ]
  },
  {
   "cell_type": "code",
   "execution_count": null,
   "id": "a3a4c49b-734c-4c3d-8a6b-890ad33cb676",
   "metadata": {},
   "outputs": [],
   "source": [
    "gdf['Revenue'] = gdf['Revenue'].str.replace(',', '')\n",
    "gdf['Revenue'] = gdf['Revenue'].str.replace('$', '')\n",
    "gdf['Revenue'] = gdf['Revenue'].str.replace(\"a\", '')\n",
    "gdf['Revenue'] = gdf['Revenue'].str.replace(\"k\", '')\n",
    "gdf['Revenue'] = gdf['Revenue'].str.replace(\"[\", '')\n",
    "gdf['Revenue'] = gdf['Revenue'].str.replace(\"]\", '')\n",
    "gdf['Revenue'] = gdf['Revenue'].astype(int)"
   ]
  },
  {
   "cell_type": "code",
   "execution_count": null,
   "id": "eaecb8af-cf2a-4791-805f-3371913c2cfc",
   "metadata": {
    "tags": []
   },
   "outputs": [],
   "source": [
    "gdf.tail(100)"
   ]
  },
  {
   "cell_type": "code",
   "execution_count": null,
   "id": "04fe5605-59dc-4711-beea-b5ded728fc56",
   "metadata": {},
   "outputs": [],
   "source": [
    "gdf['Attendance'] = gdf['Attendance'].str.split(' / ').str[0]\n",
    "gdf['Attendance'] = gdf['Attendance'].str.replace(',', '')\n",
    "gdf['Attendance'] = gdf['Attendance'].str.replace('[', '')\n",
    "gdf['Attendance'] = gdf['Attendance'].str.replace(']', '')\n",
    "gdf['Attendance'] = gdf['Attendance'].str.replace('a', '')\n",
    "gdf['Attendance'] = gdf['Attendance'].str.replace('k', '')\n",
    "gdf['Attendance'] = gdf['Attendance'].astype(int)"
   ]
  },
  {
   "cell_type": "code",
   "execution_count": null,
   "id": "108b726e-69ae-41df-a854-5334cde2feb3",
   "metadata": {},
   "outputs": [],
   "source": [
    "gdf.head()"
   ]
  },
  {
   "cell_type": "code",
   "execution_count": null,
   "id": "63ee746b-9b8d-4d94-8215-bca6bf959653",
   "metadata": {},
   "outputs": [],
   "source": [
    "new=gdf.copy()"
   ]
  },
  {
   "cell_type": "code",
   "execution_count": null,
   "id": "ba1f6c13-db3c-4391-b14c-4154531cfcf8",
   "metadata": {
    "tags": []
   },
   "outputs": [],
   "source": [
    "for i in range(len(gdf)):\n",
    "    fig = plt.figure(facecolor=\"black\")\n",
    "    fig, ax = plt.subplots(figsize=(15, 15))\n",
    "    lat = gdf.latitude[i]\n",
    "    lon = gdf.longitude[i]\n",
    "    ortho = CRS.from_proj4(\"+proj=ortho +lat_0={} +lon_0={} +x_0=0 +y_0=0 +a=6370997 +b=6370997 +units=m +no_defs\".format(lat, lon))\n",
    "    ortho = world.to_crs(ortho)\n",
    "    plt.style.context('Solarize_Light2')\n",
    "    new.loc[[i], 'geometry'].buffer(6400000).plot(\n",
    "        color='#F3F4ED',\n",
    "        alpha=0.9, \n",
    "        edgecolor='black',\n",
    "        ax=ax,\n",
    "        linewidth=2,\n",
    "    )\n",
    "    ortho.plot(\n",
    "        color='#536162',\n",
    "        edgecolor='none',\n",
    "        ax=ax,\n",
    "    )\n",
    "    gdf.loc[[i], 'geometry'].plot(\n",
    "        facecolors='#FF5F00', \n",
    "        ax=ax, \n",
    "        #alpha=0.9, \n",
    "        edgecolor='#FF5F00', \n",
    "        linewidth=0.7,\n",
    "    )\n",
    "    plt.title(str(gdf.iloc[i]['location']) + ' - ' + str(gdf.iloc[i]['Date']),  fontname=\"Special Elite\", color=\"black\", fontsize=\"20\")\n",
    "    plt.axis('off')\n",
    "    filename = \"images/fig\" + str(i) + \".jpg\"\n",
    "    fig.savefig(filename)\n",
    "    plt.close(fig)"
   ]
  },
  {
   "cell_type": "code",
   "execution_count": null,
   "id": "9694df7e-4171-4a76-a449-37a5ef5566a8",
   "metadata": {},
   "outputs": [],
   "source": []
  }
 ],
 "metadata": {
  "kernelspec": {
   "display_name": "Python 3 (ipykernel)",
   "language": "python",
   "name": "python3"
  },
  "language_info": {
   "codemirror_mode": {
    "name": "ipython",
    "version": 3
   },
   "file_extension": ".py",
   "mimetype": "text/x-python",
   "name": "python",
   "nbconvert_exporter": "python",
   "pygments_lexer": "ipython3",
   "version": "3.10.2"
  }
 },
 "nbformat": 4,
 "nbformat_minor": 5
}
