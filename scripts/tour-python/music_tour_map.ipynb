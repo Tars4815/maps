{
 "cells": [
  {
   "cell_type": "markdown",
   "id": "dec9c765-8771-4bee-b565-95a3edbd4cf0",
   "metadata": {},
   "source": [
    "# Maps of music tours\n",
    "Example of script for making maps of music tour by singers based on Wikipedia information, using pandas, geopandas and geopy."
   ]
  },
  {
   "cell_type": "code",
   "execution_count": 1,
   "id": "0b8ce167-4e68-4374-ab2a-a7f6773e34b9",
   "metadata": {},
   "outputs": [],
   "source": [
    "import pandas\n",
    "import geopandas\n",
    "from pyproj import CRS\n",
    "import geoplot\n",
    "import requests\n",
    "from bs4 import BeautifulSoup\n",
    "import geopy\n",
    "from geopy.geocoders import Nominatim\n",
    "from geopy.extra.rate_limiter import RateLimiter\n",
    "import matplotlib.pyplot as plt"
   ]
  },
  {
   "cell_type": "markdown",
   "id": "e9873858-4464-47e1-b01a-f1297254073a",
   "metadata": {},
   "source": [
    "## Scraping data from Wikipedia page\n",
    "Defining the target page with a table containing the tour date."
   ]
  },
  {
   "cell_type": "code",
   "execution_count": 2,
   "id": "87fdc635-3098-4554-b9c3-2c81fe1b7467",
   "metadata": {},
   "outputs": [
    {
     "name": "stdout",
     "output_type": "stream",
     "text": [
      "200\n"
     ]
    }
   ],
   "source": [
    "# Defining the url of the Wikipedia page to be scraped\n",
    "page_url = 'https://en.wikipedia.org/wiki/The_Mrs._Carter_Show_World_Tour#Shows'\n",
    "# Verifying the possibility to scrape the given page\n",
    "response=requests.get(page_url)\n",
    "print(response.status_code)"
   ]
  },
  {
   "cell_type": "code",
   "execution_count": 3,
   "id": "e89d567c-bd53-43ef-af15-d315dd62df41",
   "metadata": {},
   "outputs": [],
   "source": [
    "# Parse data from the html into a beautifulsoup object\n",
    "soup = BeautifulSoup(response.text, 'html.parser')\n",
    "tour_places=soup.find('table',{'class':\"wikitable\"})"
   ]
  },
  {
   "cell_type": "code",
   "execution_count": 4,
   "id": "3428f729-78b7-42c7-bfe0-ab6789331aeb",
   "metadata": {},
   "outputs": [
    {
     "data": {
      "text/plain": [
       "'\\nList of concerts, showing date, city, country, continent, venue, opening act, attendance and gross revenue\\n\\n\\nDate\\n\\nCity\\n\\nCountry\\n\\nVenue\\n\\nOpening acts\\n\\nAttendance\\n\\nRevenue\\n\\n\\nLeg 1 — Europe[6][123][124][125]\\n\\n\\nApril 15, 2013\\n\\nBelgrade\\n\\nSerbia\\n\\nKombank Arena\\n\\nN/A\\n\\n16,719 / 16,719\\n\\n$834,621\\n\\n\\nApril 17, 2013\\n\\nZagreb\\n\\nCroatia\\n\\nArena Zagreb\\n\\nFranka Batelić\\n\\n16,920 / 16,920\\n\\n$932,089\\n\\n\\nApril 19, 2013\\n\\nBratislava\\n\\nSlovakia\\n\\nOndrej Nepela Arena\\n\\nN/A\\n\\n8,770 / 8,770\\n\\n$1,163,637\\n\\n\\nApril 21, 2013\\n\\nAmsterdam\\n'"
      ]
     },
     "execution_count": 4,
     "metadata": {},
     "output_type": "execute_result"
    }
   ],
   "source": [
    "# Checking a portion of the resulting object\n",
    "tour_places.text[:500]"
   ]
  },
  {
   "cell_type": "code",
   "execution_count": 5,
   "id": "161f0c3a-81ab-400d-a009-dfaf9de5d721",
   "metadata": {},
   "outputs": [
    {
     "data": {
      "text/html": [
       "<div>\n",
       "<style scoped>\n",
       "    .dataframe tbody tr th:only-of-type {\n",
       "        vertical-align: middle;\n",
       "    }\n",
       "\n",
       "    .dataframe tbody tr th {\n",
       "        vertical-align: top;\n",
       "    }\n",
       "\n",
       "    .dataframe thead tr th {\n",
       "        text-align: left;\n",
       "    }\n",
       "</style>\n",
       "<table border=\"1\" class=\"dataframe\">\n",
       "  <thead>\n",
       "    <tr>\n",
       "      <th></th>\n",
       "      <th>Date</th>\n",
       "      <th>City</th>\n",
       "      <th>Country</th>\n",
       "      <th>Venue</th>\n",
       "      <th>Opening acts</th>\n",
       "      <th>Attendance</th>\n",
       "      <th>Revenue</th>\n",
       "    </tr>\n",
       "    <tr>\n",
       "      <th></th>\n",
       "      <th>Leg 1 — Europe[6][123][124][125]</th>\n",
       "      <th>Leg 1 — Europe[6][123][124][125]</th>\n",
       "      <th>Leg 1 — Europe[6][123][124][125]</th>\n",
       "      <th>Leg 1 — Europe[6][123][124][125]</th>\n",
       "      <th>Leg 1 — Europe[6][123][124][125]</th>\n",
       "      <th>Leg 1 — Europe[6][123][124][125]</th>\n",
       "      <th>Leg 1 — Europe[6][123][124][125]</th>\n",
       "    </tr>\n",
       "  </thead>\n",
       "  <tbody>\n",
       "    <tr>\n",
       "      <th>135</th>\n",
       "      <td>March 21, 2014</td>\n",
       "      <td>Antwerp</td>\n",
       "      <td>Belgium</td>\n",
       "      <td>Sportpaleis</td>\n",
       "      <td>Monsieur Adi</td>\n",
       "      <td>36,972 / 36,972</td>\n",
       "      <td>$3,489,100</td>\n",
       "    </tr>\n",
       "    <tr>\n",
       "      <th>136</th>\n",
       "      <td>March 24, 2014</td>\n",
       "      <td>Barcelona</td>\n",
       "      <td>Spain</td>\n",
       "      <td>Palau Sant Jordi</td>\n",
       "      <td>Monsieur Adi</td>\n",
       "      <td>17,315 / 17,315</td>\n",
       "      <td>$1,993,000</td>\n",
       "    </tr>\n",
       "    <tr>\n",
       "      <th>137</th>\n",
       "      <td>March 26, 2014</td>\n",
       "      <td>Lisbon</td>\n",
       "      <td>Portugal</td>\n",
       "      <td>MEO Arena</td>\n",
       "      <td>Monsieur Adi</td>\n",
       "      <td>36,051 / 36,051</td>\n",
       "      <td>$3,064,960</td>\n",
       "    </tr>\n",
       "    <tr>\n",
       "      <th>138</th>\n",
       "      <td>March 27, 2014</td>\n",
       "      <td>Lisbon</td>\n",
       "      <td>Portugal</td>\n",
       "      <td>MEO Arena</td>\n",
       "      <td>Monsieur Adi</td>\n",
       "      <td>36,051 / 36,051</td>\n",
       "      <td>$3,064,960</td>\n",
       "    </tr>\n",
       "    <tr>\n",
       "      <th>139</th>\n",
       "      <td>Total</td>\n",
       "      <td>Total</td>\n",
       "      <td>Total</td>\n",
       "      <td>Total</td>\n",
       "      <td>Total</td>\n",
       "      <td>1,928,590 / 1,983,844 (97.21%)</td>\n",
       "      <td>$219,229,461</td>\n",
       "    </tr>\n",
       "  </tbody>\n",
       "</table>\n",
       "</div>"
      ],
      "text/plain": [
       "                                Date                             City  \\\n",
       "    Leg 1 — Europe[6][123][124][125] Leg 1 — Europe[6][123][124][125]   \n",
       "135                   March 21, 2014                          Antwerp   \n",
       "136                   March 24, 2014                        Barcelona   \n",
       "137                   March 26, 2014                           Lisbon   \n",
       "138                   March 27, 2014                           Lisbon   \n",
       "139                            Total                            Total   \n",
       "\n",
       "                             Country                            Venue  \\\n",
       "    Leg 1 — Europe[6][123][124][125] Leg 1 — Europe[6][123][124][125]   \n",
       "135                          Belgium                      Sportpaleis   \n",
       "136                            Spain                 Palau Sant Jordi   \n",
       "137                         Portugal                        MEO Arena   \n",
       "138                         Portugal                        MEO Arena   \n",
       "139                            Total                            Total   \n",
       "\n",
       "                        Opening acts                       Attendance  \\\n",
       "    Leg 1 — Europe[6][123][124][125] Leg 1 — Europe[6][123][124][125]   \n",
       "135                     Monsieur Adi                  36,972 / 36,972   \n",
       "136                     Monsieur Adi                  17,315 / 17,315   \n",
       "137                     Monsieur Adi                  36,051 / 36,051   \n",
       "138                     Monsieur Adi                  36,051 / 36,051   \n",
       "139                            Total   1,928,590 / 1,983,844 (97.21%)   \n",
       "\n",
       "                             Revenue  \n",
       "    Leg 1 — Europe[6][123][124][125]  \n",
       "135                       $3,489,100  \n",
       "136                       $1,993,000  \n",
       "137                       $3,064,960  \n",
       "138                       $3,064,960  \n",
       "139                     $219,229,461  "
      ]
     },
     "execution_count": 5,
     "metadata": {},
     "output_type": "execute_result"
    }
   ],
   "source": [
    "# Transforming the response into a pandas object\n",
    "df=pandas.read_html(str(tour_places))\n",
    "# Converting list to dataframe\n",
    "df=pandas.DataFrame(df[0])\n",
    "df.head()\n",
    "df.tail()"
   ]
  },
  {
   "cell_type": "code",
   "execution_count": 6,
   "id": "bc890276-ce82-45bd-b6d8-6eb5e2f8c345",
   "metadata": {},
   "outputs": [
    {
     "data": {
      "text/plain": [
       "MultiIndex([(        'Date', 'Leg 1 — Europe[6][123][124][125]'),\n",
       "            (        'City', 'Leg 1 — Europe[6][123][124][125]'),\n",
       "            (     'Country', 'Leg 1 — Europe[6][123][124][125]'),\n",
       "            (       'Venue', 'Leg 1 — Europe[6][123][124][125]'),\n",
       "            ('Opening acts', 'Leg 1 — Europe[6][123][124][125]'),\n",
       "            (  'Attendance', 'Leg 1 — Europe[6][123][124][125]'),\n",
       "            (     'Revenue', 'Leg 1 — Europe[6][123][124][125]')],\n",
       "           )"
      ]
     },
     "execution_count": 6,
     "metadata": {},
     "output_type": "execute_result"
    }
   ],
   "source": [
    "# Checking column titles\n",
    "df.columns"
   ]
  },
  {
   "cell_type": "code",
   "execution_count": 7,
   "id": "b4a98807-441d-4a33-beb6-7474b95e975b",
   "metadata": {},
   "outputs": [
    {
     "data": {
      "text/html": [
       "<div>\n",
       "<style scoped>\n",
       "    .dataframe tbody tr th:only-of-type {\n",
       "        vertical-align: middle;\n",
       "    }\n",
       "\n",
       "    .dataframe tbody tr th {\n",
       "        vertical-align: top;\n",
       "    }\n",
       "\n",
       "    .dataframe thead tr th {\n",
       "        text-align: left;\n",
       "    }\n",
       "</style>\n",
       "<table border=\"1\" class=\"dataframe\">\n",
       "  <thead>\n",
       "    <tr>\n",
       "      <th></th>\n",
       "      <th>Date</th>\n",
       "      <th>City</th>\n",
       "      <th>Country</th>\n",
       "      <th>Venue</th>\n",
       "      <th>Attendance</th>\n",
       "      <th>Revenue</th>\n",
       "    </tr>\n",
       "    <tr>\n",
       "      <th></th>\n",
       "      <th>Leg 1 — Europe[6][123][124][125]</th>\n",
       "      <th>Leg 1 — Europe[6][123][124][125]</th>\n",
       "      <th>Leg 1 — Europe[6][123][124][125]</th>\n",
       "      <th>Leg 1 — Europe[6][123][124][125]</th>\n",
       "      <th>Leg 1 — Europe[6][123][124][125]</th>\n",
       "      <th>Leg 1 — Europe[6][123][124][125]</th>\n",
       "    </tr>\n",
       "  </thead>\n",
       "  <tbody>\n",
       "    <tr>\n",
       "      <th>0</th>\n",
       "      <td>April 15, 2013</td>\n",
       "      <td>Belgrade</td>\n",
       "      <td>Serbia</td>\n",
       "      <td>Kombank Arena</td>\n",
       "      <td>16,719 / 16,719</td>\n",
       "      <td>$834,621</td>\n",
       "    </tr>\n",
       "    <tr>\n",
       "      <th>1</th>\n",
       "      <td>April 17, 2013</td>\n",
       "      <td>Zagreb</td>\n",
       "      <td>Croatia</td>\n",
       "      <td>Arena Zagreb</td>\n",
       "      <td>16,920 / 16,920</td>\n",
       "      <td>$932,089</td>\n",
       "    </tr>\n",
       "    <tr>\n",
       "      <th>2</th>\n",
       "      <td>April 19, 2013</td>\n",
       "      <td>Bratislava</td>\n",
       "      <td>Slovakia</td>\n",
       "      <td>Ondrej Nepela Arena</td>\n",
       "      <td>8,770 / 8,770</td>\n",
       "      <td>$1,163,637</td>\n",
       "    </tr>\n",
       "    <tr>\n",
       "      <th>3</th>\n",
       "      <td>April 21, 2013</td>\n",
       "      <td>Amsterdam</td>\n",
       "      <td>Netherlands</td>\n",
       "      <td>Ziggo Dome</td>\n",
       "      <td>30,897 / 31,600</td>\n",
       "      <td>$2,559,806</td>\n",
       "    </tr>\n",
       "    <tr>\n",
       "      <th>4</th>\n",
       "      <td>April 22, 2013</td>\n",
       "      <td>Amsterdam</td>\n",
       "      <td>Netherlands</td>\n",
       "      <td>Ziggo Dome</td>\n",
       "      <td>30,897 / 31,600</td>\n",
       "      <td>$2,559,806</td>\n",
       "    </tr>\n",
       "    <tr>\n",
       "      <th>...</th>\n",
       "      <td>...</td>\n",
       "      <td>...</td>\n",
       "      <td>...</td>\n",
       "      <td>...</td>\n",
       "      <td>...</td>\n",
       "      <td>...</td>\n",
       "    </tr>\n",
       "    <tr>\n",
       "      <th>134</th>\n",
       "      <td>March 20, 2014</td>\n",
       "      <td>Antwerp</td>\n",
       "      <td>Belgium</td>\n",
       "      <td>Sportpaleis</td>\n",
       "      <td>36,972 / 36,972</td>\n",
       "      <td>$3,489,100</td>\n",
       "    </tr>\n",
       "    <tr>\n",
       "      <th>135</th>\n",
       "      <td>March 21, 2014</td>\n",
       "      <td>Antwerp</td>\n",
       "      <td>Belgium</td>\n",
       "      <td>Sportpaleis</td>\n",
       "      <td>36,972 / 36,972</td>\n",
       "      <td>$3,489,100</td>\n",
       "    </tr>\n",
       "    <tr>\n",
       "      <th>136</th>\n",
       "      <td>March 24, 2014</td>\n",
       "      <td>Barcelona</td>\n",
       "      <td>Spain</td>\n",
       "      <td>Palau Sant Jordi</td>\n",
       "      <td>17,315 / 17,315</td>\n",
       "      <td>$1,993,000</td>\n",
       "    </tr>\n",
       "    <tr>\n",
       "      <th>137</th>\n",
       "      <td>March 26, 2014</td>\n",
       "      <td>Lisbon</td>\n",
       "      <td>Portugal</td>\n",
       "      <td>MEO Arena</td>\n",
       "      <td>36,051 / 36,051</td>\n",
       "      <td>$3,064,960</td>\n",
       "    </tr>\n",
       "    <tr>\n",
       "      <th>138</th>\n",
       "      <td>March 27, 2014</td>\n",
       "      <td>Lisbon</td>\n",
       "      <td>Portugal</td>\n",
       "      <td>MEO Arena</td>\n",
       "      <td>36,051 / 36,051</td>\n",
       "      <td>$3,064,960</td>\n",
       "    </tr>\n",
       "  </tbody>\n",
       "</table>\n",
       "<p>139 rows × 6 columns</p>\n",
       "</div>"
      ],
      "text/plain": [
       "                                Date                             City  \\\n",
       "    Leg 1 — Europe[6][123][124][125] Leg 1 — Europe[6][123][124][125]   \n",
       "0                     April 15, 2013                         Belgrade   \n",
       "1                     April 17, 2013                           Zagreb   \n",
       "2                     April 19, 2013                       Bratislava   \n",
       "3                     April 21, 2013                        Amsterdam   \n",
       "4                     April 22, 2013                        Amsterdam   \n",
       "..                               ...                              ...   \n",
       "134                   March 20, 2014                          Antwerp   \n",
       "135                   March 21, 2014                          Antwerp   \n",
       "136                   March 24, 2014                        Barcelona   \n",
       "137                   March 26, 2014                           Lisbon   \n",
       "138                   March 27, 2014                           Lisbon   \n",
       "\n",
       "                             Country                            Venue  \\\n",
       "    Leg 1 — Europe[6][123][124][125] Leg 1 — Europe[6][123][124][125]   \n",
       "0                             Serbia                    Kombank Arena   \n",
       "1                            Croatia                     Arena Zagreb   \n",
       "2                           Slovakia              Ondrej Nepela Arena   \n",
       "3                        Netherlands                       Ziggo Dome   \n",
       "4                        Netherlands                       Ziggo Dome   \n",
       "..                               ...                              ...   \n",
       "134                          Belgium                      Sportpaleis   \n",
       "135                          Belgium                      Sportpaleis   \n",
       "136                            Spain                 Palau Sant Jordi   \n",
       "137                         Portugal                        MEO Arena   \n",
       "138                         Portugal                        MEO Arena   \n",
       "\n",
       "                          Attendance                          Revenue  \n",
       "    Leg 1 — Europe[6][123][124][125] Leg 1 — Europe[6][123][124][125]  \n",
       "0                    16,719 / 16,719                         $834,621  \n",
       "1                    16,920 / 16,920                         $932,089  \n",
       "2                      8,770 / 8,770                       $1,163,637  \n",
       "3                    30,897 / 31,600                       $2,559,806  \n",
       "4                    30,897 / 31,600                       $2,559,806  \n",
       "..                               ...                              ...  \n",
       "134                  36,972 / 36,972                       $3,489,100  \n",
       "135                  36,972 / 36,972                       $3,489,100  \n",
       "136                  17,315 / 17,315                       $1,993,000  \n",
       "137                  36,051 / 36,051                       $3,064,960  \n",
       "138                  36,051 / 36,051                       $3,064,960  \n",
       "\n",
       "[139 rows x 6 columns]"
      ]
     },
     "execution_count": 7,
     "metadata": {},
     "output_type": "execute_result"
    }
   ],
   "source": [
    "# Creating a new dataframe containing only the columns of interest\n",
    "new_df = df[['Date', 'City', 'Country','Venue', 'Attendance', 'Revenue']]\n",
    "# Removing the last row contatining the Total\n",
    "new_df = new_df.drop([139])\n",
    "new_df"
   ]
  },
  {
   "cell_type": "code",
   "execution_count": 8,
   "id": "d57a0d9e-13c8-4bc1-ae4d-8777f650b847",
   "metadata": {},
   "outputs": [],
   "source": [
    "# Replacing text values containing a comma\n",
    "new_df = new_df.replace('Washington, D.C.', 'Washington D.C.')"
   ]
  },
  {
   "cell_type": "code",
   "execution_count": 9,
   "id": "c4e3c286-8c27-4f58-b674-245495d40a6e",
   "metadata": {},
   "outputs": [
    {
     "data": {
      "text/plain": [
       "0            Belgrade, Serbia\n",
       "1             Zagreb, Croatia\n",
       "2        Bratislava, Slovakia\n",
       "3      Amsterdam, Netherlands\n",
       "4      Amsterdam, Netherlands\n",
       "                ...          \n",
       "134          Antwerp, Belgium\n",
       "135          Antwerp, Belgium\n",
       "136          Barcelona, Spain\n",
       "137          Lisbon, Portugal\n",
       "138          Lisbon, Portugal\n",
       "Name: location, Length: 139, dtype: object"
      ]
     },
     "execution_count": 9,
     "metadata": {},
     "output_type": "execute_result"
    }
   ],
   "source": [
    "# Creating new column in the dataframe with the addresses\n",
    "new_df['location'] = new_df['City'] + ', ' + new_df['Country']\n",
    "new_df['location']"
   ]
  },
  {
   "cell_type": "code",
   "execution_count": 10,
   "id": "340de033-ece2-472a-99cb-17692852100e",
   "metadata": {},
   "outputs": [
    {
     "data": {
      "text/html": [
       "<div>\n",
       "<style scoped>\n",
       "    .dataframe tbody tr th:only-of-type {\n",
       "        vertical-align: middle;\n",
       "    }\n",
       "\n",
       "    .dataframe tbody tr th {\n",
       "        vertical-align: top;\n",
       "    }\n",
       "\n",
       "    .dataframe thead tr th {\n",
       "        text-align: left;\n",
       "    }\n",
       "</style>\n",
       "<table border=\"1\" class=\"dataframe\">\n",
       "  <thead>\n",
       "    <tr>\n",
       "      <th></th>\n",
       "      <th>Date</th>\n",
       "      <th>City</th>\n",
       "      <th>Country</th>\n",
       "      <th>Venue</th>\n",
       "      <th>Attendance</th>\n",
       "      <th>Revenue</th>\n",
       "      <th>location</th>\n",
       "    </tr>\n",
       "    <tr>\n",
       "      <th></th>\n",
       "      <th>Leg 1 — Europe[6][123][124][125]</th>\n",
       "      <th>Leg 1 — Europe[6][123][124][125]</th>\n",
       "      <th>Leg 1 — Europe[6][123][124][125]</th>\n",
       "      <th>Leg 1 — Europe[6][123][124][125]</th>\n",
       "      <th>Leg 1 — Europe[6][123][124][125]</th>\n",
       "      <th>Leg 1 — Europe[6][123][124][125]</th>\n",
       "      <th></th>\n",
       "    </tr>\n",
       "  </thead>\n",
       "  <tbody>\n",
       "    <tr>\n",
       "      <th>0</th>\n",
       "      <td>April 15, 2013</td>\n",
       "      <td>Belgrade</td>\n",
       "      <td>Serbia</td>\n",
       "      <td>Kombank Arena</td>\n",
       "      <td>16,719 / 16,719</td>\n",
       "      <td>$834,621</td>\n",
       "      <td>Belgrade, Serbia</td>\n",
       "    </tr>\n",
       "    <tr>\n",
       "      <th>1</th>\n",
       "      <td>April 17, 2013</td>\n",
       "      <td>Zagreb</td>\n",
       "      <td>Croatia</td>\n",
       "      <td>Arena Zagreb</td>\n",
       "      <td>16,920 / 16,920</td>\n",
       "      <td>$932,089</td>\n",
       "      <td>Zagreb, Croatia</td>\n",
       "    </tr>\n",
       "    <tr>\n",
       "      <th>2</th>\n",
       "      <td>April 19, 2013</td>\n",
       "      <td>Bratislava</td>\n",
       "      <td>Slovakia</td>\n",
       "      <td>Ondrej Nepela Arena</td>\n",
       "      <td>8,770 / 8,770</td>\n",
       "      <td>$1,163,637</td>\n",
       "      <td>Bratislava, Slovakia</td>\n",
       "    </tr>\n",
       "    <tr>\n",
       "      <th>3</th>\n",
       "      <td>April 21, 2013</td>\n",
       "      <td>Amsterdam</td>\n",
       "      <td>Netherlands</td>\n",
       "      <td>Ziggo Dome</td>\n",
       "      <td>30,897 / 31,600</td>\n",
       "      <td>$2,559,806</td>\n",
       "      <td>Amsterdam, Netherlands</td>\n",
       "    </tr>\n",
       "    <tr>\n",
       "      <th>4</th>\n",
       "      <td>April 22, 2013</td>\n",
       "      <td>Amsterdam</td>\n",
       "      <td>Netherlands</td>\n",
       "      <td>Ziggo Dome</td>\n",
       "      <td>30,897 / 31,600</td>\n",
       "      <td>$2,559,806</td>\n",
       "      <td>Amsterdam, Netherlands</td>\n",
       "    </tr>\n",
       "  </tbody>\n",
       "</table>\n",
       "</div>"
      ],
      "text/plain": [
       "                              Date                             City  \\\n",
       "  Leg 1 — Europe[6][123][124][125] Leg 1 — Europe[6][123][124][125]   \n",
       "0                   April 15, 2013                         Belgrade   \n",
       "1                   April 17, 2013                           Zagreb   \n",
       "2                   April 19, 2013                       Bratislava   \n",
       "3                   April 21, 2013                        Amsterdam   \n",
       "4                   April 22, 2013                        Amsterdam   \n",
       "\n",
       "                           Country                            Venue  \\\n",
       "  Leg 1 — Europe[6][123][124][125] Leg 1 — Europe[6][123][124][125]   \n",
       "0                           Serbia                    Kombank Arena   \n",
       "1                          Croatia                     Arena Zagreb   \n",
       "2                         Slovakia              Ondrej Nepela Arena   \n",
       "3                      Netherlands                       Ziggo Dome   \n",
       "4                      Netherlands                       Ziggo Dome   \n",
       "\n",
       "                        Attendance                          Revenue  \\\n",
       "  Leg 1 — Europe[6][123][124][125] Leg 1 — Europe[6][123][124][125]   \n",
       "0                  16,719 / 16,719                         $834,621   \n",
       "1                  16,920 / 16,920                         $932,089   \n",
       "2                    8,770 / 8,770                       $1,163,637   \n",
       "3                  30,897 / 31,600                       $2,559,806   \n",
       "4                  30,897 / 31,600                       $2,559,806   \n",
       "\n",
       "                 location  \n",
       "                           \n",
       "0        Belgrade, Serbia  \n",
       "1         Zagreb, Croatia  \n",
       "2    Bratislava, Slovakia  \n",
       "3  Amsterdam, Netherlands  \n",
       "4  Amsterdam, Netherlands  "
      ]
     },
     "execution_count": 10,
     "metadata": {},
     "output_type": "execute_result"
    }
   ],
   "source": [
    "new_df.head()"
   ]
  },
  {
   "cell_type": "code",
   "execution_count": 11,
   "id": "e68506a4-3013-4b6d-bd44-11b40bb6367d",
   "metadata": {},
   "outputs": [],
   "source": [
    "# Defining the locator element\n",
    "locator = Nominatim(user_agent='prova')\n",
    "# Defining a function to delay between geocoding calls\n",
    "geocode = RateLimiter(locator.geocode, min_delay_seconds=1.5)\n",
    "# Creating location column\n",
    "new_df['location2'] = new_df['location'].apply(geocode)\n",
    "# Creating longitude, laatitude and altitude from location column (returns tuple)\n",
    "new_df['point'] = new_df['location2'].apply(lambda loc: tuple(loc.point) if loc else None)\n",
    "# Splitting point column into latitude, longitude and altitude columns\n",
    "new_df[['latitude', 'longitude', 'altitude']] = pandas.DataFrame(new_df['point'].tolist(), index=new_df.index)"
   ]
  },
  {
   "cell_type": "code",
   "execution_count": 12,
   "id": "f94d604f-0488-44ed-9dbe-36b3a5dd8fb7",
   "metadata": {},
   "outputs": [
    {
     "data": {
      "text/html": [
       "<div>\n",
       "<style scoped>\n",
       "    .dataframe tbody tr th:only-of-type {\n",
       "        vertical-align: middle;\n",
       "    }\n",
       "\n",
       "    .dataframe tbody tr th {\n",
       "        vertical-align: top;\n",
       "    }\n",
       "\n",
       "    .dataframe thead tr th {\n",
       "        text-align: left;\n",
       "    }\n",
       "</style>\n",
       "<table border=\"1\" class=\"dataframe\">\n",
       "  <thead>\n",
       "    <tr>\n",
       "      <th></th>\n",
       "      <th>Date</th>\n",
       "      <th>City</th>\n",
       "      <th>Country</th>\n",
       "      <th>Venue</th>\n",
       "      <th>Attendance</th>\n",
       "      <th>Revenue</th>\n",
       "      <th>location</th>\n",
       "      <th>location2</th>\n",
       "      <th>point</th>\n",
       "      <th>latitude</th>\n",
       "      <th>longitude</th>\n",
       "      <th>altitude</th>\n",
       "    </tr>\n",
       "    <tr>\n",
       "      <th></th>\n",
       "      <th>Leg 1 — Europe[6][123][124][125]</th>\n",
       "      <th>Leg 1 — Europe[6][123][124][125]</th>\n",
       "      <th>Leg 1 — Europe[6][123][124][125]</th>\n",
       "      <th>Leg 1 — Europe[6][123][124][125]</th>\n",
       "      <th>Leg 1 — Europe[6][123][124][125]</th>\n",
       "      <th>Leg 1 — Europe[6][123][124][125]</th>\n",
       "      <th></th>\n",
       "      <th></th>\n",
       "      <th></th>\n",
       "      <th></th>\n",
       "      <th></th>\n",
       "      <th></th>\n",
       "    </tr>\n",
       "  </thead>\n",
       "  <tbody>\n",
       "    <tr>\n",
       "      <th>0</th>\n",
       "      <td>April 15, 2013</td>\n",
       "      <td>Belgrade</td>\n",
       "      <td>Serbia</td>\n",
       "      <td>Kombank Arena</td>\n",
       "      <td>16,719 / 16,719</td>\n",
       "      <td>$834,621</td>\n",
       "      <td>Belgrade, Serbia</td>\n",
       "      <td>(Београд, Градска општина Стари град, Град Бео...</td>\n",
       "      <td>(44.8178131, 20.4568974, 0.0)</td>\n",
       "      <td>44.817813</td>\n",
       "      <td>20.456897</td>\n",
       "      <td>0.0</td>\n",
       "    </tr>\n",
       "    <tr>\n",
       "      <th>1</th>\n",
       "      <td>April 17, 2013</td>\n",
       "      <td>Zagreb</td>\n",
       "      <td>Croatia</td>\n",
       "      <td>Arena Zagreb</td>\n",
       "      <td>16,920 / 16,920</td>\n",
       "      <td>$932,089</td>\n",
       "      <td>Zagreb, Croatia</td>\n",
       "      <td>(Zagreb, Grad Zagreb, Hrvatska, (45.8131847, 1...</td>\n",
       "      <td>(45.8131847, 15.9771774, 0.0)</td>\n",
       "      <td>45.813185</td>\n",
       "      <td>15.977177</td>\n",
       "      <td>0.0</td>\n",
       "    </tr>\n",
       "    <tr>\n",
       "      <th>2</th>\n",
       "      <td>April 19, 2013</td>\n",
       "      <td>Bratislava</td>\n",
       "      <td>Slovakia</td>\n",
       "      <td>Ondrej Nepela Arena</td>\n",
       "      <td>8,770 / 8,770</td>\n",
       "      <td>$1,163,637</td>\n",
       "      <td>Bratislava, Slovakia</td>\n",
       "      <td>(Bratislava, Bratislavský kraj, Slovensko, (48...</td>\n",
       "      <td>(48.1516988, 17.1093063, 0.0)</td>\n",
       "      <td>48.151699</td>\n",
       "      <td>17.109306</td>\n",
       "      <td>0.0</td>\n",
       "    </tr>\n",
       "    <tr>\n",
       "      <th>3</th>\n",
       "      <td>April 21, 2013</td>\n",
       "      <td>Amsterdam</td>\n",
       "      <td>Netherlands</td>\n",
       "      <td>Ziggo Dome</td>\n",
       "      <td>30,897 / 31,600</td>\n",
       "      <td>$2,559,806</td>\n",
       "      <td>Amsterdam, Netherlands</td>\n",
       "      <td>(Amsterdam, Noord-Holland, Nederland, (52.3727...</td>\n",
       "      <td>(52.3727598, 4.8936041, 0.0)</td>\n",
       "      <td>52.372760</td>\n",
       "      <td>4.893604</td>\n",
       "      <td>0.0</td>\n",
       "    </tr>\n",
       "    <tr>\n",
       "      <th>4</th>\n",
       "      <td>April 22, 2013</td>\n",
       "      <td>Amsterdam</td>\n",
       "      <td>Netherlands</td>\n",
       "      <td>Ziggo Dome</td>\n",
       "      <td>30,897 / 31,600</td>\n",
       "      <td>$2,559,806</td>\n",
       "      <td>Amsterdam, Netherlands</td>\n",
       "      <td>(Amsterdam, Noord-Holland, Nederland, (52.3727...</td>\n",
       "      <td>(52.3727598, 4.8936041, 0.0)</td>\n",
       "      <td>52.372760</td>\n",
       "      <td>4.893604</td>\n",
       "      <td>0.0</td>\n",
       "    </tr>\n",
       "  </tbody>\n",
       "</table>\n",
       "</div>"
      ],
      "text/plain": [
       "                              Date                             City  \\\n",
       "  Leg 1 — Europe[6][123][124][125] Leg 1 — Europe[6][123][124][125]   \n",
       "0                   April 15, 2013                         Belgrade   \n",
       "1                   April 17, 2013                           Zagreb   \n",
       "2                   April 19, 2013                       Bratislava   \n",
       "3                   April 21, 2013                        Amsterdam   \n",
       "4                   April 22, 2013                        Amsterdam   \n",
       "\n",
       "                           Country                            Venue  \\\n",
       "  Leg 1 — Europe[6][123][124][125] Leg 1 — Europe[6][123][124][125]   \n",
       "0                           Serbia                    Kombank Arena   \n",
       "1                          Croatia                     Arena Zagreb   \n",
       "2                         Slovakia              Ondrej Nepela Arena   \n",
       "3                      Netherlands                       Ziggo Dome   \n",
       "4                      Netherlands                       Ziggo Dome   \n",
       "\n",
       "                        Attendance                          Revenue  \\\n",
       "  Leg 1 — Europe[6][123][124][125] Leg 1 — Europe[6][123][124][125]   \n",
       "0                  16,719 / 16,719                         $834,621   \n",
       "1                  16,920 / 16,920                         $932,089   \n",
       "2                    8,770 / 8,770                       $1,163,637   \n",
       "3                  30,897 / 31,600                       $2,559,806   \n",
       "4                  30,897 / 31,600                       $2,559,806   \n",
       "\n",
       "                 location                                          location2  \\\n",
       "                                                                               \n",
       "0        Belgrade, Serbia  (Београд, Градска општина Стари град, Град Бео...   \n",
       "1         Zagreb, Croatia  (Zagreb, Grad Zagreb, Hrvatska, (45.8131847, 1...   \n",
       "2    Bratislava, Slovakia  (Bratislava, Bratislavský kraj, Slovensko, (48...   \n",
       "3  Amsterdam, Netherlands  (Amsterdam, Noord-Holland, Nederland, (52.3727...   \n",
       "4  Amsterdam, Netherlands  (Amsterdam, Noord-Holland, Nederland, (52.3727...   \n",
       "\n",
       "                           point   latitude  longitude altitude  \n",
       "                                                                 \n",
       "0  (44.8178131, 20.4568974, 0.0)  44.817813  20.456897      0.0  \n",
       "1  (45.8131847, 15.9771774, 0.0)  45.813185  15.977177      0.0  \n",
       "2  (48.1516988, 17.1093063, 0.0)  48.151699  17.109306      0.0  \n",
       "3   (52.3727598, 4.8936041, 0.0)  52.372760   4.893604      0.0  \n",
       "4   (52.3727598, 4.8936041, 0.0)  52.372760   4.893604      0.0  "
      ]
     },
     "execution_count": 12,
     "metadata": {},
     "output_type": "execute_result"
    }
   ],
   "source": [
    "new_df.head()"
   ]
  },
  {
   "cell_type": "code",
   "execution_count": 13,
   "id": "3dcba54a-aa0f-41b3-a5e8-fb8e39ad71b5",
   "metadata": {},
   "outputs": [
    {
     "data": {
      "text/plain": [
       "7"
      ]
     },
     "execution_count": 13,
     "metadata": {},
     "output_type": "execute_result"
    }
   ],
   "source": [
    "# Checking the presence of null values\n",
    "new_df['latitude'].isna().sum()"
   ]
  },
  {
   "cell_type": "code",
   "execution_count": 14,
   "id": "1a2983c3-474d-4014-83e7-c74c4054a5ff",
   "metadata": {},
   "outputs": [
    {
     "data": {
      "text/html": [
       "<div>\n",
       "<style scoped>\n",
       "    .dataframe tbody tr th:only-of-type {\n",
       "        vertical-align: middle;\n",
       "    }\n",
       "\n",
       "    .dataframe tbody tr th {\n",
       "        vertical-align: top;\n",
       "    }\n",
       "\n",
       "    .dataframe thead tr th {\n",
       "        text-align: left;\n",
       "    }\n",
       "</style>\n",
       "<table border=\"1\" class=\"dataframe\">\n",
       "  <thead>\n",
       "    <tr>\n",
       "      <th></th>\n",
       "      <th>Date</th>\n",
       "      <th>City</th>\n",
       "      <th>Country</th>\n",
       "      <th>Venue</th>\n",
       "      <th>Attendance</th>\n",
       "      <th>Revenue</th>\n",
       "      <th>location</th>\n",
       "      <th>location2</th>\n",
       "      <th>point</th>\n",
       "      <th>latitude</th>\n",
       "      <th>longitude</th>\n",
       "      <th>altitude</th>\n",
       "    </tr>\n",
       "    <tr>\n",
       "      <th></th>\n",
       "      <th>Leg 1 — Europe[6][123][124][125]</th>\n",
       "      <th>Leg 1 — Europe[6][123][124][125]</th>\n",
       "      <th>Leg 1 — Europe[6][123][124][125]</th>\n",
       "      <th>Leg 1 — Europe[6][123][124][125]</th>\n",
       "      <th>Leg 1 — Europe[6][123][124][125]</th>\n",
       "      <th>Leg 1 — Europe[6][123][124][125]</th>\n",
       "      <th></th>\n",
       "      <th></th>\n",
       "      <th></th>\n",
       "      <th></th>\n",
       "      <th></th>\n",
       "      <th></th>\n",
       "    </tr>\n",
       "  </thead>\n",
       "  <tbody>\n",
       "    <tr>\n",
       "      <th>33</th>\n",
       "      <td>Leg 2 — North America[6][123][129][130][131]</td>\n",
       "      <td>Leg 2 — North America[6][123][129][130][131]</td>\n",
       "      <td>Leg 2 — North America[6][123][129][130][131]</td>\n",
       "      <td>Leg 2 — North America[6][123][129][130][131]</td>\n",
       "      <td>Leg 2 — North America[6][123][129][130][131]</td>\n",
       "      <td>Leg 2 — North America[6][123][129][130][131]</td>\n",
       "      <td>Leg 2 — North America[6][123][129][130][131], ...</td>\n",
       "      <td>None</td>\n",
       "      <td>None</td>\n",
       "      <td>NaN</td>\n",
       "      <td>NaN</td>\n",
       "      <td>NaN</td>\n",
       "    </tr>\n",
       "    <tr>\n",
       "      <th>62</th>\n",
       "      <td>Leg 3 — Europe[134]</td>\n",
       "      <td>Leg 3 — Europe[134]</td>\n",
       "      <td>Leg 3 — Europe[134]</td>\n",
       "      <td>Leg 3 — Europe[134]</td>\n",
       "      <td>Leg 3 — Europe[134]</td>\n",
       "      <td>Leg 3 — Europe[134]</td>\n",
       "      <td>Leg 3 — Europe[134], Leg 3 — Europe[134]</td>\n",
       "      <td>None</td>\n",
       "      <td>None</td>\n",
       "      <td>NaN</td>\n",
       "      <td>NaN</td>\n",
       "      <td>NaN</td>\n",
       "    </tr>\n",
       "    <tr>\n",
       "      <th>65</th>\n",
       "      <td>Leg 4 — North America[136]</td>\n",
       "      <td>Leg 4 — North America[136]</td>\n",
       "      <td>Leg 4 — North America[136]</td>\n",
       "      <td>Leg 4 — North America[136]</td>\n",
       "      <td>Leg 4 — North America[136]</td>\n",
       "      <td>Leg 4 — North America[136]</td>\n",
       "      <td>Leg 4 — North America[136], Leg 4 — North Amer...</td>\n",
       "      <td>None</td>\n",
       "      <td>None</td>\n",
       "      <td>NaN</td>\n",
       "      <td>NaN</td>\n",
       "      <td>NaN</td>\n",
       "    </tr>\n",
       "    <tr>\n",
       "      <th>67</th>\n",
       "      <td>Leg 5 — Latin America[100][129][138][139]</td>\n",
       "      <td>Leg 5 — Latin America[100][129][138][139]</td>\n",
       "      <td>Leg 5 — Latin America[100][129][138][139]</td>\n",
       "      <td>Leg 5 — Latin America[100][129][138][139]</td>\n",
       "      <td>Leg 5 — Latin America[100][129][138][139]</td>\n",
       "      <td>Leg 5 — Latin America[100][129][138][139]</td>\n",
       "      <td>Leg 5 — Latin America[100][129][138][139], Leg...</td>\n",
       "      <td>None</td>\n",
       "      <td>None</td>\n",
       "      <td>NaN</td>\n",
       "      <td>NaN</td>\n",
       "      <td>NaN</td>\n",
       "    </tr>\n",
       "    <tr>\n",
       "      <th>78</th>\n",
       "      <td>Leg 6 — Oceania [138][142][143][144]</td>\n",
       "      <td>Leg 6 — Oceania [138][142][143][144]</td>\n",
       "      <td>Leg 6 — Oceania [138][142][143][144]</td>\n",
       "      <td>Leg 6 — Oceania [138][142][143][144]</td>\n",
       "      <td>Leg 6 — Oceania [138][142][143][144]</td>\n",
       "      <td>Leg 6 — Oceania [138][142][143][144]</td>\n",
       "      <td>Leg 6 — Oceania [138][142][143][144], Leg 6 — ...</td>\n",
       "      <td>None</td>\n",
       "      <td>None</td>\n",
       "      <td>NaN</td>\n",
       "      <td>NaN</td>\n",
       "      <td>NaN</td>\n",
       "    </tr>\n",
       "    <tr>\n",
       "      <th>97</th>\n",
       "      <td>Leg 7 — North America[100][129]</td>\n",
       "      <td>Leg 7 — North America[100][129]</td>\n",
       "      <td>Leg 7 — North America[100][129]</td>\n",
       "      <td>Leg 7 — North America[100][129]</td>\n",
       "      <td>Leg 7 — North America[100][129]</td>\n",
       "      <td>Leg 7 — North America[100][129]</td>\n",
       "      <td>Leg 7 — North America[100][129], Leg 7 — North...</td>\n",
       "      <td>None</td>\n",
       "      <td>None</td>\n",
       "      <td>NaN</td>\n",
       "      <td>NaN</td>\n",
       "      <td>NaN</td>\n",
       "    </tr>\n",
       "    <tr>\n",
       "      <th>113</th>\n",
       "      <td>Leg 8 — Europe[93][145][146]</td>\n",
       "      <td>Leg 8 — Europe[93][145][146]</td>\n",
       "      <td>Leg 8 — Europe[93][145][146]</td>\n",
       "      <td>Leg 8 — Europe[93][145][146]</td>\n",
       "      <td>Leg 8 — Europe[93][145][146]</td>\n",
       "      <td>Leg 8 — Europe[93][145][146]</td>\n",
       "      <td>Leg 8 — Europe[93][145][146], Leg 8 — Europe[9...</td>\n",
       "      <td>None</td>\n",
       "      <td>None</td>\n",
       "      <td>NaN</td>\n",
       "      <td>NaN</td>\n",
       "      <td>NaN</td>\n",
       "    </tr>\n",
       "  </tbody>\n",
       "</table>\n",
       "</div>"
      ],
      "text/plain": [
       "                                             Date  \\\n",
       "                 Leg 1 — Europe[6][123][124][125]   \n",
       "33   Leg 2 — North America[6][123][129][130][131]   \n",
       "62                            Leg 3 — Europe[134]   \n",
       "65                     Leg 4 — North America[136]   \n",
       "67      Leg 5 — Latin America[100][129][138][139]   \n",
       "78           Leg 6 — Oceania [138][142][143][144]   \n",
       "97                Leg 7 — North America[100][129]   \n",
       "113                  Leg 8 — Europe[93][145][146]   \n",
       "\n",
       "                                             City  \\\n",
       "                 Leg 1 — Europe[6][123][124][125]   \n",
       "33   Leg 2 — North America[6][123][129][130][131]   \n",
       "62                            Leg 3 — Europe[134]   \n",
       "65                     Leg 4 — North America[136]   \n",
       "67      Leg 5 — Latin America[100][129][138][139]   \n",
       "78           Leg 6 — Oceania [138][142][143][144]   \n",
       "97                Leg 7 — North America[100][129]   \n",
       "113                  Leg 8 — Europe[93][145][146]   \n",
       "\n",
       "                                          Country  \\\n",
       "                 Leg 1 — Europe[6][123][124][125]   \n",
       "33   Leg 2 — North America[6][123][129][130][131]   \n",
       "62                            Leg 3 — Europe[134]   \n",
       "65                     Leg 4 — North America[136]   \n",
       "67      Leg 5 — Latin America[100][129][138][139]   \n",
       "78           Leg 6 — Oceania [138][142][143][144]   \n",
       "97                Leg 7 — North America[100][129]   \n",
       "113                  Leg 8 — Europe[93][145][146]   \n",
       "\n",
       "                                            Venue  \\\n",
       "                 Leg 1 — Europe[6][123][124][125]   \n",
       "33   Leg 2 — North America[6][123][129][130][131]   \n",
       "62                            Leg 3 — Europe[134]   \n",
       "65                     Leg 4 — North America[136]   \n",
       "67      Leg 5 — Latin America[100][129][138][139]   \n",
       "78           Leg 6 — Oceania [138][142][143][144]   \n",
       "97                Leg 7 — North America[100][129]   \n",
       "113                  Leg 8 — Europe[93][145][146]   \n",
       "\n",
       "                                       Attendance  \\\n",
       "                 Leg 1 — Europe[6][123][124][125]   \n",
       "33   Leg 2 — North America[6][123][129][130][131]   \n",
       "62                            Leg 3 — Europe[134]   \n",
       "65                     Leg 4 — North America[136]   \n",
       "67      Leg 5 — Latin America[100][129][138][139]   \n",
       "78           Leg 6 — Oceania [138][142][143][144]   \n",
       "97                Leg 7 — North America[100][129]   \n",
       "113                  Leg 8 — Europe[93][145][146]   \n",
       "\n",
       "                                          Revenue  \\\n",
       "                 Leg 1 — Europe[6][123][124][125]   \n",
       "33   Leg 2 — North America[6][123][129][130][131]   \n",
       "62                            Leg 3 — Europe[134]   \n",
       "65                     Leg 4 — North America[136]   \n",
       "67      Leg 5 — Latin America[100][129][138][139]   \n",
       "78           Leg 6 — Oceania [138][142][143][144]   \n",
       "97                Leg 7 — North America[100][129]   \n",
       "113                  Leg 8 — Europe[93][145][146]   \n",
       "\n",
       "                                              location location2 point  \\\n",
       "                                                                         \n",
       "33   Leg 2 — North America[6][123][129][130][131], ...      None  None   \n",
       "62            Leg 3 — Europe[134], Leg 3 — Europe[134]      None  None   \n",
       "65   Leg 4 — North America[136], Leg 4 — North Amer...      None  None   \n",
       "67   Leg 5 — Latin America[100][129][138][139], Leg...      None  None   \n",
       "78   Leg 6 — Oceania [138][142][143][144], Leg 6 — ...      None  None   \n",
       "97   Leg 7 — North America[100][129], Leg 7 — North...      None  None   \n",
       "113  Leg 8 — Europe[93][145][146], Leg 8 — Europe[9...      None  None   \n",
       "\n",
       "    latitude longitude altitude  \n",
       "                                 \n",
       "33       NaN       NaN      NaN  \n",
       "62       NaN       NaN      NaN  \n",
       "65       NaN       NaN      NaN  \n",
       "67       NaN       NaN      NaN  \n",
       "78       NaN       NaN      NaN  \n",
       "97       NaN       NaN      NaN  \n",
       "113      NaN       NaN      NaN  "
      ]
     },
     "execution_count": 14,
     "metadata": {},
     "output_type": "execute_result"
    }
   ],
   "source": [
    "# Checking rows where the geolocator failed to attach coordinates values\n",
    "new_df[new_df['latitude'].isna()]"
   ]
  },
  {
   "cell_type": "code",
   "execution_count": 15,
   "id": "a2b1b983-3c2a-49e5-9ca2-41d8c2c1e1d4",
   "metadata": {},
   "outputs": [
    {
     "data": {
      "text/html": [
       "<div>\n",
       "<style scoped>\n",
       "    .dataframe tbody tr th:only-of-type {\n",
       "        vertical-align: middle;\n",
       "    }\n",
       "\n",
       "    .dataframe tbody tr th {\n",
       "        vertical-align: top;\n",
       "    }\n",
       "\n",
       "    .dataframe thead tr th {\n",
       "        text-align: left;\n",
       "    }\n",
       "</style>\n",
       "<table border=\"1\" class=\"dataframe\">\n",
       "  <thead>\n",
       "    <tr>\n",
       "      <th></th>\n",
       "      <th>Date</th>\n",
       "      <th>City</th>\n",
       "      <th>Country</th>\n",
       "      <th>Venue</th>\n",
       "      <th>Attendance</th>\n",
       "      <th>Revenue</th>\n",
       "      <th>location</th>\n",
       "      <th>location2</th>\n",
       "      <th>point</th>\n",
       "      <th>latitude</th>\n",
       "      <th>longitude</th>\n",
       "      <th>altitude</th>\n",
       "    </tr>\n",
       "    <tr>\n",
       "      <th></th>\n",
       "      <th>Leg 1 — Europe[6][123][124][125]</th>\n",
       "      <th>Leg 1 — Europe[6][123][124][125]</th>\n",
       "      <th>Leg 1 — Europe[6][123][124][125]</th>\n",
       "      <th>Leg 1 — Europe[6][123][124][125]</th>\n",
       "      <th>Leg 1 — Europe[6][123][124][125]</th>\n",
       "      <th>Leg 1 — Europe[6][123][124][125]</th>\n",
       "      <th></th>\n",
       "      <th></th>\n",
       "      <th></th>\n",
       "      <th></th>\n",
       "      <th></th>\n",
       "      <th></th>\n",
       "    </tr>\n",
       "  </thead>\n",
       "  <tbody>\n",
       "    <tr>\n",
       "      <th>0</th>\n",
       "      <td>April 15, 2013</td>\n",
       "      <td>Belgrade</td>\n",
       "      <td>Serbia</td>\n",
       "      <td>Kombank Arena</td>\n",
       "      <td>16,719 / 16,719</td>\n",
       "      <td>$834,621</td>\n",
       "      <td>Belgrade, Serbia</td>\n",
       "      <td>(Београд, Градска општина Стари град, Град Бео...</td>\n",
       "      <td>(44.8178131, 20.4568974, 0.0)</td>\n",
       "      <td>44.817813</td>\n",
       "      <td>20.456897</td>\n",
       "      <td>0.0</td>\n",
       "    </tr>\n",
       "    <tr>\n",
       "      <th>1</th>\n",
       "      <td>April 17, 2013</td>\n",
       "      <td>Zagreb</td>\n",
       "      <td>Croatia</td>\n",
       "      <td>Arena Zagreb</td>\n",
       "      <td>16,920 / 16,920</td>\n",
       "      <td>$932,089</td>\n",
       "      <td>Zagreb, Croatia</td>\n",
       "      <td>(Zagreb, Grad Zagreb, Hrvatska, (45.8131847, 1...</td>\n",
       "      <td>(45.8131847, 15.9771774, 0.0)</td>\n",
       "      <td>45.813185</td>\n",
       "      <td>15.977177</td>\n",
       "      <td>0.0</td>\n",
       "    </tr>\n",
       "    <tr>\n",
       "      <th>2</th>\n",
       "      <td>April 19, 2013</td>\n",
       "      <td>Bratislava</td>\n",
       "      <td>Slovakia</td>\n",
       "      <td>Ondrej Nepela Arena</td>\n",
       "      <td>8,770 / 8,770</td>\n",
       "      <td>$1,163,637</td>\n",
       "      <td>Bratislava, Slovakia</td>\n",
       "      <td>(Bratislava, Bratislavský kraj, Slovensko, (48...</td>\n",
       "      <td>(48.1516988, 17.1093063, 0.0)</td>\n",
       "      <td>48.151699</td>\n",
       "      <td>17.109306</td>\n",
       "      <td>0.0</td>\n",
       "    </tr>\n",
       "    <tr>\n",
       "      <th>3</th>\n",
       "      <td>April 21, 2013</td>\n",
       "      <td>Amsterdam</td>\n",
       "      <td>Netherlands</td>\n",
       "      <td>Ziggo Dome</td>\n",
       "      <td>30,897 / 31,600</td>\n",
       "      <td>$2,559,806</td>\n",
       "      <td>Amsterdam, Netherlands</td>\n",
       "      <td>(Amsterdam, Noord-Holland, Nederland, (52.3727...</td>\n",
       "      <td>(52.3727598, 4.8936041, 0.0)</td>\n",
       "      <td>52.372760</td>\n",
       "      <td>4.893604</td>\n",
       "      <td>0.0</td>\n",
       "    </tr>\n",
       "    <tr>\n",
       "      <th>4</th>\n",
       "      <td>April 22, 2013</td>\n",
       "      <td>Amsterdam</td>\n",
       "      <td>Netherlands</td>\n",
       "      <td>Ziggo Dome</td>\n",
       "      <td>30,897 / 31,600</td>\n",
       "      <td>$2,559,806</td>\n",
       "      <td>Amsterdam, Netherlands</td>\n",
       "      <td>(Amsterdam, Noord-Holland, Nederland, (52.3727...</td>\n",
       "      <td>(52.3727598, 4.8936041, 0.0)</td>\n",
       "      <td>52.372760</td>\n",
       "      <td>4.893604</td>\n",
       "      <td>0.0</td>\n",
       "    </tr>\n",
       "  </tbody>\n",
       "</table>\n",
       "</div>"
      ],
      "text/plain": [
       "                              Date                             City  \\\n",
       "  Leg 1 — Europe[6][123][124][125] Leg 1 — Europe[6][123][124][125]   \n",
       "0                   April 15, 2013                         Belgrade   \n",
       "1                   April 17, 2013                           Zagreb   \n",
       "2                   April 19, 2013                       Bratislava   \n",
       "3                   April 21, 2013                        Amsterdam   \n",
       "4                   April 22, 2013                        Amsterdam   \n",
       "\n",
       "                           Country                            Venue  \\\n",
       "  Leg 1 — Europe[6][123][124][125] Leg 1 — Europe[6][123][124][125]   \n",
       "0                           Serbia                    Kombank Arena   \n",
       "1                          Croatia                     Arena Zagreb   \n",
       "2                         Slovakia              Ondrej Nepela Arena   \n",
       "3                      Netherlands                       Ziggo Dome   \n",
       "4                      Netherlands                       Ziggo Dome   \n",
       "\n",
       "                        Attendance                          Revenue  \\\n",
       "  Leg 1 — Europe[6][123][124][125] Leg 1 — Europe[6][123][124][125]   \n",
       "0                  16,719 / 16,719                         $834,621   \n",
       "1                  16,920 / 16,920                         $932,089   \n",
       "2                    8,770 / 8,770                       $1,163,637   \n",
       "3                  30,897 / 31,600                       $2,559,806   \n",
       "4                  30,897 / 31,600                       $2,559,806   \n",
       "\n",
       "                 location                                          location2  \\\n",
       "                                                                               \n",
       "0        Belgrade, Serbia  (Београд, Градска општина Стари град, Град Бео...   \n",
       "1         Zagreb, Croatia  (Zagreb, Grad Zagreb, Hrvatska, (45.8131847, 1...   \n",
       "2    Bratislava, Slovakia  (Bratislava, Bratislavský kraj, Slovensko, (48...   \n",
       "3  Amsterdam, Netherlands  (Amsterdam, Noord-Holland, Nederland, (52.3727...   \n",
       "4  Amsterdam, Netherlands  (Amsterdam, Noord-Holland, Nederland, (52.3727...   \n",
       "\n",
       "                           point   latitude  longitude altitude  \n",
       "                                                                 \n",
       "0  (44.8178131, 20.4568974, 0.0)  44.817813  20.456897      0.0  \n",
       "1  (45.8131847, 15.9771774, 0.0)  45.813185  15.977177      0.0  \n",
       "2  (48.1516988, 17.1093063, 0.0)  48.151699  17.109306      0.0  \n",
       "3   (52.3727598, 4.8936041, 0.0)  52.372760   4.893604      0.0  \n",
       "4   (52.3727598, 4.8936041, 0.0)  52.372760   4.893604      0.0  "
      ]
     },
     "execution_count": 15,
     "metadata": {},
     "output_type": "execute_result"
    }
   ],
   "source": [
    "# Cleaning the dataframe by removing the not relevant null values\n",
    "new_df = new_df[new_df['latitude'].notna()]\n",
    "new_df.reset_index(drop=True, inplace=True)\n",
    "new_df.head()"
   ]
  },
  {
   "cell_type": "code",
   "execution_count": 16,
   "id": "eeaf531f-d27a-4fe9-b1fb-b794d07c5d8b",
   "metadata": {},
   "outputs": [],
   "source": [
    "# Create geodataframe from dataframe\n",
    "gdf = geopandas.GeoDataFrame(new_df, geometry=geopandas.points_from_xy(new_df.longitude, new_df.latitude))"
   ]
  },
  {
   "cell_type": "code",
   "execution_count": 17,
   "id": "f07b9dae-c827-413f-aab2-f567bb47caa5",
   "metadata": {},
   "outputs": [
    {
     "data": {
      "text/html": [
       "<div>\n",
       "<style scoped>\n",
       "    .dataframe tbody tr th:only-of-type {\n",
       "        vertical-align: middle;\n",
       "    }\n",
       "\n",
       "    .dataframe tbody tr th {\n",
       "        vertical-align: top;\n",
       "    }\n",
       "\n",
       "    .dataframe thead tr th {\n",
       "        text-align: left;\n",
       "    }\n",
       "</style>\n",
       "<table border=\"1\" class=\"dataframe\">\n",
       "  <thead>\n",
       "    <tr>\n",
       "      <th></th>\n",
       "      <th>Date</th>\n",
       "      <th>City</th>\n",
       "      <th>Country</th>\n",
       "      <th>Venue</th>\n",
       "      <th>Attendance</th>\n",
       "      <th>Revenue</th>\n",
       "      <th>location</th>\n",
       "      <th>location2</th>\n",
       "      <th>point</th>\n",
       "      <th>latitude</th>\n",
       "      <th>longitude</th>\n",
       "      <th>altitude</th>\n",
       "      <th>geometry</th>\n",
       "    </tr>\n",
       "    <tr>\n",
       "      <th></th>\n",
       "      <th>Leg 1 — Europe[6][123][124][125]</th>\n",
       "      <th>Leg 1 — Europe[6][123][124][125]</th>\n",
       "      <th>Leg 1 — Europe[6][123][124][125]</th>\n",
       "      <th>Leg 1 — Europe[6][123][124][125]</th>\n",
       "      <th>Leg 1 — Europe[6][123][124][125]</th>\n",
       "      <th>Leg 1 — Europe[6][123][124][125]</th>\n",
       "      <th></th>\n",
       "      <th></th>\n",
       "      <th></th>\n",
       "      <th></th>\n",
       "      <th></th>\n",
       "      <th></th>\n",
       "      <th></th>\n",
       "    </tr>\n",
       "  </thead>\n",
       "  <tbody>\n",
       "    <tr>\n",
       "      <th>0</th>\n",
       "      <td>April 15, 2013</td>\n",
       "      <td>Belgrade</td>\n",
       "      <td>Serbia</td>\n",
       "      <td>Kombank Arena</td>\n",
       "      <td>16,719 / 16,719</td>\n",
       "      <td>$834,621</td>\n",
       "      <td>Belgrade, Serbia</td>\n",
       "      <td>(Београд, Градска општина Стари град, Град Бео...</td>\n",
       "      <td>(44.8178131, 20.4568974, 0.0)</td>\n",
       "      <td>44.817813</td>\n",
       "      <td>20.456897</td>\n",
       "      <td>0.0</td>\n",
       "      <td>POINT (20.45690 44.81781)</td>\n",
       "    </tr>\n",
       "    <tr>\n",
       "      <th>1</th>\n",
       "      <td>April 17, 2013</td>\n",
       "      <td>Zagreb</td>\n",
       "      <td>Croatia</td>\n",
       "      <td>Arena Zagreb</td>\n",
       "      <td>16,920 / 16,920</td>\n",
       "      <td>$932,089</td>\n",
       "      <td>Zagreb, Croatia</td>\n",
       "      <td>(Zagreb, Grad Zagreb, Hrvatska, (45.8131847, 1...</td>\n",
       "      <td>(45.8131847, 15.9771774, 0.0)</td>\n",
       "      <td>45.813185</td>\n",
       "      <td>15.977177</td>\n",
       "      <td>0.0</td>\n",
       "      <td>POINT (15.97718 45.81318)</td>\n",
       "    </tr>\n",
       "    <tr>\n",
       "      <th>2</th>\n",
       "      <td>April 19, 2013</td>\n",
       "      <td>Bratislava</td>\n",
       "      <td>Slovakia</td>\n",
       "      <td>Ondrej Nepela Arena</td>\n",
       "      <td>8,770 / 8,770</td>\n",
       "      <td>$1,163,637</td>\n",
       "      <td>Bratislava, Slovakia</td>\n",
       "      <td>(Bratislava, Bratislavský kraj, Slovensko, (48...</td>\n",
       "      <td>(48.1516988, 17.1093063, 0.0)</td>\n",
       "      <td>48.151699</td>\n",
       "      <td>17.109306</td>\n",
       "      <td>0.0</td>\n",
       "      <td>POINT (17.10931 48.15170)</td>\n",
       "    </tr>\n",
       "    <tr>\n",
       "      <th>3</th>\n",
       "      <td>April 21, 2013</td>\n",
       "      <td>Amsterdam</td>\n",
       "      <td>Netherlands</td>\n",
       "      <td>Ziggo Dome</td>\n",
       "      <td>30,897 / 31,600</td>\n",
       "      <td>$2,559,806</td>\n",
       "      <td>Amsterdam, Netherlands</td>\n",
       "      <td>(Amsterdam, Noord-Holland, Nederland, (52.3727...</td>\n",
       "      <td>(52.3727598, 4.8936041, 0.0)</td>\n",
       "      <td>52.372760</td>\n",
       "      <td>4.893604</td>\n",
       "      <td>0.0</td>\n",
       "      <td>POINT (4.89360 52.37276)</td>\n",
       "    </tr>\n",
       "    <tr>\n",
       "      <th>4</th>\n",
       "      <td>April 22, 2013</td>\n",
       "      <td>Amsterdam</td>\n",
       "      <td>Netherlands</td>\n",
       "      <td>Ziggo Dome</td>\n",
       "      <td>30,897 / 31,600</td>\n",
       "      <td>$2,559,806</td>\n",
       "      <td>Amsterdam, Netherlands</td>\n",
       "      <td>(Amsterdam, Noord-Holland, Nederland, (52.3727...</td>\n",
       "      <td>(52.3727598, 4.8936041, 0.0)</td>\n",
       "      <td>52.372760</td>\n",
       "      <td>4.893604</td>\n",
       "      <td>0.0</td>\n",
       "      <td>POINT (4.89360 52.37276)</td>\n",
       "    </tr>\n",
       "  </tbody>\n",
       "</table>\n",
       "</div>"
      ],
      "text/plain": [
       "                              Date                             City  \\\n",
       "  Leg 1 — Europe[6][123][124][125] Leg 1 — Europe[6][123][124][125]   \n",
       "0                   April 15, 2013                         Belgrade   \n",
       "1                   April 17, 2013                           Zagreb   \n",
       "2                   April 19, 2013                       Bratislava   \n",
       "3                   April 21, 2013                        Amsterdam   \n",
       "4                   April 22, 2013                        Amsterdam   \n",
       "\n",
       "                           Country                            Venue  \\\n",
       "  Leg 1 — Europe[6][123][124][125] Leg 1 — Europe[6][123][124][125]   \n",
       "0                           Serbia                    Kombank Arena   \n",
       "1                          Croatia                     Arena Zagreb   \n",
       "2                         Slovakia              Ondrej Nepela Arena   \n",
       "3                      Netherlands                       Ziggo Dome   \n",
       "4                      Netherlands                       Ziggo Dome   \n",
       "\n",
       "                        Attendance                          Revenue  \\\n",
       "  Leg 1 — Europe[6][123][124][125] Leg 1 — Europe[6][123][124][125]   \n",
       "0                  16,719 / 16,719                         $834,621   \n",
       "1                  16,920 / 16,920                         $932,089   \n",
       "2                    8,770 / 8,770                       $1,163,637   \n",
       "3                  30,897 / 31,600                       $2,559,806   \n",
       "4                  30,897 / 31,600                       $2,559,806   \n",
       "\n",
       "                 location                                          location2  \\\n",
       "                                                                               \n",
       "0        Belgrade, Serbia  (Београд, Градска општина Стари град, Град Бео...   \n",
       "1         Zagreb, Croatia  (Zagreb, Grad Zagreb, Hrvatska, (45.8131847, 1...   \n",
       "2    Bratislava, Slovakia  (Bratislava, Bratislavský kraj, Slovensko, (48...   \n",
       "3  Amsterdam, Netherlands  (Amsterdam, Noord-Holland, Nederland, (52.3727...   \n",
       "4  Amsterdam, Netherlands  (Amsterdam, Noord-Holland, Nederland, (52.3727...   \n",
       "\n",
       "                           point   latitude  longitude altitude  \\\n",
       "                                                                  \n",
       "0  (44.8178131, 20.4568974, 0.0)  44.817813  20.456897      0.0   \n",
       "1  (45.8131847, 15.9771774, 0.0)  45.813185  15.977177      0.0   \n",
       "2  (48.1516988, 17.1093063, 0.0)  48.151699  17.109306      0.0   \n",
       "3   (52.3727598, 4.8936041, 0.0)  52.372760   4.893604      0.0   \n",
       "4   (52.3727598, 4.8936041, 0.0)  52.372760   4.893604      0.0   \n",
       "\n",
       "                    geometry  \n",
       "                              \n",
       "0  POINT (20.45690 44.81781)  \n",
       "1  POINT (15.97718 45.81318)  \n",
       "2  POINT (17.10931 48.15170)  \n",
       "3   POINT (4.89360 52.37276)  \n",
       "4   POINT (4.89360 52.37276)  "
      ]
     },
     "execution_count": 17,
     "metadata": {},
     "output_type": "execute_result"
    }
   ],
   "source": [
    "gdf.head()"
   ]
  },
  {
   "cell_type": "code",
   "execution_count": 18,
   "id": "9a1f5a20-1ae5-40eb-baf9-e81799e91534",
   "metadata": {},
   "outputs": [],
   "source": [
    "# Adding world base map\n",
    "world = geopandas.read_file('ne_10m_admin_0_countries.shp')"
   ]
  },
  {
   "cell_type": "code",
   "execution_count": 19,
   "id": "eff3d8ea-eef1-4d22-a4b1-19caefd1ac81",
   "metadata": {},
   "outputs": [
    {
     "data": {
      "text/plain": [
       "<AxesSubplot:>"
      ]
     },
     "execution_count": 19,
     "metadata": {},
     "output_type": "execute_result"
    },
    {
     "data": {
      "image/png": "[encoded data removed]",
      "text/plain": [
       "<Figure size 1728x1296 with 1 Axes>"
      ]
     },
     "metadata": {
      "needs_background": "light"
     },
     "output_type": "display_data"
    }
   ],
   "source": [
    "#Plotting results\n",
    "fig, ax = plt.subplots(figsize=(24,18))\n",
    "world.plot(ax=ax, alpha=0.4, color='grey')\n",
    "gdf.plot(ax=ax)"
   ]
  },
  {
   "cell_type": "code",
   "execution_count": 20,
   "id": "0664134d-f0ca-427b-bf04-f20a9885bf88",
   "metadata": {},
   "outputs": [
    {
     "data": {
      "text/html": [
       "<div>\n",
       "<style scoped>\n",
       "    .dataframe tbody tr th:only-of-type {\n",
       "        vertical-align: middle;\n",
       "    }\n",
       "\n",
       "    .dataframe tbody tr th {\n",
       "        vertical-align: top;\n",
       "    }\n",
       "\n",
       "    .dataframe thead th {\n",
       "        text-align: right;\n",
       "    }\n",
       "</style>\n",
       "<table border=\"1\" class=\"dataframe\">\n",
       "  <thead>\n",
       "    <tr style=\"text-align: right;\">\n",
       "      <th></th>\n",
       "      <th>Date</th>\n",
       "      <th>City</th>\n",
       "      <th>Country</th>\n",
       "      <th>Venue</th>\n",
       "      <th>Attendance</th>\n",
       "      <th>Revenue</th>\n",
       "      <th>location</th>\n",
       "      <th>location2</th>\n",
       "      <th>point</th>\n",
       "      <th>latitude</th>\n",
       "      <th>longitude</th>\n",
       "      <th>altitude</th>\n",
       "      <th>geometry</th>\n",
       "    </tr>\n",
       "  </thead>\n",
       "  <tbody>\n",
       "    <tr>\n",
       "      <th>0</th>\n",
       "      <td>April 15, 2013</td>\n",
       "      <td>Belgrade</td>\n",
       "      <td>Serbia</td>\n",
       "      <td>Kombank Arena</td>\n",
       "      <td>16,719 / 16,719</td>\n",
       "      <td>$834,621</td>\n",
       "      <td>Belgrade, Serbia</td>\n",
       "      <td>(Београд, Градска општина Стари град, Град Бео...</td>\n",
       "      <td>(44.8178131, 20.4568974, 0.0)</td>\n",
       "      <td>44.817813</td>\n",
       "      <td>20.456897</td>\n",
       "      <td>0.0</td>\n",
       "      <td>POINT (20.45690 44.81781)</td>\n",
       "    </tr>\n",
       "    <tr>\n",
       "      <th>1</th>\n",
       "      <td>April 17, 2013</td>\n",
       "      <td>Zagreb</td>\n",
       "      <td>Croatia</td>\n",
       "      <td>Arena Zagreb</td>\n",
       "      <td>16,920 / 16,920</td>\n",
       "      <td>$932,089</td>\n",
       "      <td>Zagreb, Croatia</td>\n",
       "      <td>(Zagreb, Grad Zagreb, Hrvatska, (45.8131847, 1...</td>\n",
       "      <td>(45.8131847, 15.9771774, 0.0)</td>\n",
       "      <td>45.813185</td>\n",
       "      <td>15.977177</td>\n",
       "      <td>0.0</td>\n",
       "      <td>POINT (15.97718 45.81318)</td>\n",
       "    </tr>\n",
       "    <tr>\n",
       "      <th>2</th>\n",
       "      <td>April 19, 2013</td>\n",
       "      <td>Bratislava</td>\n",
       "      <td>Slovakia</td>\n",
       "      <td>Ondrej Nepela Arena</td>\n",
       "      <td>8,770 / 8,770</td>\n",
       "      <td>$1,163,637</td>\n",
       "      <td>Bratislava, Slovakia</td>\n",
       "      <td>(Bratislava, Bratislavský kraj, Slovensko, (48...</td>\n",
       "      <td>(48.1516988, 17.1093063, 0.0)</td>\n",
       "      <td>48.151699</td>\n",
       "      <td>17.109306</td>\n",
       "      <td>0.0</td>\n",
       "      <td>POINT (17.10931 48.15170)</td>\n",
       "    </tr>\n",
       "    <tr>\n",
       "      <th>3</th>\n",
       "      <td>April 21, 2013</td>\n",
       "      <td>Amsterdam</td>\n",
       "      <td>Netherlands</td>\n",
       "      <td>Ziggo Dome</td>\n",
       "      <td>30,897 / 31,600</td>\n",
       "      <td>$2,559,806</td>\n",
       "      <td>Amsterdam, Netherlands</td>\n",
       "      <td>(Amsterdam, Noord-Holland, Nederland, (52.3727...</td>\n",
       "      <td>(52.3727598, 4.8936041, 0.0)</td>\n",
       "      <td>52.372760</td>\n",
       "      <td>4.893604</td>\n",
       "      <td>0.0</td>\n",
       "      <td>POINT (4.89360 52.37276)</td>\n",
       "    </tr>\n",
       "    <tr>\n",
       "      <th>4</th>\n",
       "      <td>April 22, 2013</td>\n",
       "      <td>Amsterdam</td>\n",
       "      <td>Netherlands</td>\n",
       "      <td>Ziggo Dome</td>\n",
       "      <td>30,897 / 31,600</td>\n",
       "      <td>$2,559,806</td>\n",
       "      <td>Amsterdam, Netherlands</td>\n",
       "      <td>(Amsterdam, Noord-Holland, Nederland, (52.3727...</td>\n",
       "      <td>(52.3727598, 4.8936041, 0.0)</td>\n",
       "      <td>52.372760</td>\n",
       "      <td>4.893604</td>\n",
       "      <td>0.0</td>\n",
       "      <td>POINT (4.89360 52.37276)</td>\n",
       "    </tr>\n",
       "  </tbody>\n",
       "</table>\n",
       "</div>"
      ],
      "text/plain": [
       "             Date        City      Country                Venue  \\\n",
       "0  April 15, 2013    Belgrade       Serbia        Kombank Arena   \n",
       "1  April 17, 2013      Zagreb      Croatia         Arena Zagreb   \n",
       "2  April 19, 2013  Bratislava     Slovakia  Ondrej Nepela Arena   \n",
       "3  April 21, 2013   Amsterdam  Netherlands           Ziggo Dome   \n",
       "4  April 22, 2013   Amsterdam  Netherlands           Ziggo Dome   \n",
       "\n",
       "        Attendance     Revenue                location  \\\n",
       "0  16,719 / 16,719    $834,621        Belgrade, Serbia   \n",
       "1  16,920 / 16,920    $932,089         Zagreb, Croatia   \n",
       "2    8,770 / 8,770  $1,163,637    Bratislava, Slovakia   \n",
       "3  30,897 / 31,600  $2,559,806  Amsterdam, Netherlands   \n",
       "4  30,897 / 31,600  $2,559,806  Amsterdam, Netherlands   \n",
       "\n",
       "                                           location2  \\\n",
       "0  (Београд, Градска општина Стари град, Град Бео...   \n",
       "1  (Zagreb, Grad Zagreb, Hrvatska, (45.8131847, 1...   \n",
       "2  (Bratislava, Bratislavský kraj, Slovensko, (48...   \n",
       "3  (Amsterdam, Noord-Holland, Nederland, (52.3727...   \n",
       "4  (Amsterdam, Noord-Holland, Nederland, (52.3727...   \n",
       "\n",
       "                           point   latitude  longitude  altitude  \\\n",
       "0  (44.8178131, 20.4568974, 0.0)  44.817813  20.456897       0.0   \n",
       "1  (45.8131847, 15.9771774, 0.0)  45.813185  15.977177       0.0   \n",
       "2  (48.1516988, 17.1093063, 0.0)  48.151699  17.109306       0.0   \n",
       "3   (52.3727598, 4.8936041, 0.0)  52.372760   4.893604       0.0   \n",
       "4   (52.3727598, 4.8936041, 0.0)  52.372760   4.893604       0.0   \n",
       "\n",
       "                    geometry  \n",
       "0  POINT (20.45690 44.81781)  \n",
       "1  POINT (15.97718 45.81318)  \n",
       "2  POINT (17.10931 48.15170)  \n",
       "3   POINT (4.89360 52.37276)  \n",
       "4   POINT (4.89360 52.37276)  "
      ]
     },
     "execution_count": 20,
     "metadata": {},
     "output_type": "execute_result"
    }
   ],
   "source": [
    "gdf.columns\n",
    "col_rename= {\"Date\": \"Date\",\n",
    "             \"'City', 'Leg 1 — Europe[6][123][124][125]'\": \"City\",\n",
    "             \"'Country', 'Leg 1 — Europe[6][123][124][125]'\": \"Country\",\n",
    "             \"'Venue', 'Leg 1 — Europe[6][123][124][125]')\": \"Venue\",\n",
    "             \"'Attendance', 'Leg 1 — Europe[6][123][124][125]'\": \"Attendance\",\n",
    "             \"'Revenue', 'Leg 1 — Europe[6][123][124][125]'\": \"Revenue\"\n",
    "}\n",
    "gdf.columns = ['Date', 'City', 'Country', 'Venue', 'Attendance', 'Revenue', 'location', 'location2', 'point', 'latitude', 'longitude', 'altitude', 'geometry']\n",
    "gdf.head()"
   ]
  },
  {
   "cell_type": "code",
   "execution_count": 21,
   "id": "a3a4c49b-734c-4c3d-8a6b-890ad33cb676",
   "metadata": {},
   "outputs": [
    {
     "name": "stderr",
     "output_type": "stream",
     "text": [
      "C:\\Users\\Admin\\AppData\\Local\\Temp\\ipykernel_23272\\1864253791.py:2: FutureWarning: The default value of regex will change from True to False in a future version. In addition, single character regular expressions will *not* be treated as literal strings when regex=True.\n",
      "  gdf['Revenue'] = gdf['Revenue'].str.replace('$', '')\n",
      "C:\\Users\\Admin\\AppData\\Local\\Temp\\ipykernel_23272\\1864253791.py:5: FutureWarning: The default value of regex will change from True to False in a future version. In addition, single character regular expressions will *not* be treated as literal strings when regex=True.\n",
      "  gdf['Revenue'] = gdf['Revenue'].str.replace(\"[\", '')\n",
      "C:\\Users\\Admin\\AppData\\Local\\Temp\\ipykernel_23272\\1864253791.py:6: FutureWarning: The default value of regex will change from True to False in a future version. In addition, single character regular expressions will *not* be treated as literal strings when regex=True.\n",
      "  gdf['Revenue'] = gdf['Revenue'].str.replace(\"]\", '')\n"
     ]
    },
    {
     "ename": "ValueError",
     "evalue": "invalid literal for int() with base 10: ''",
     "output_type": "error",
     "traceback": [
      "\u001b[1;31m---------------------------------------------------------------------------\u001b[0m",
      "\u001b[1;31mValueError\u001b[0m                                Traceback (most recent call last)",
      "Input \u001b[1;32mIn [21]\u001b[0m, in \u001b[0;36m<module>\u001b[1;34m\u001b[0m\n\u001b[0;32m      5\u001b[0m gdf[\u001b[38;5;124m'\u001b[39m\u001b[38;5;124mRevenue\u001b[39m\u001b[38;5;124m'\u001b[39m] \u001b[38;5;241m=\u001b[39m gdf[\u001b[38;5;124m'\u001b[39m\u001b[38;5;124mRevenue\u001b[39m\u001b[38;5;124m'\u001b[39m]\u001b[38;5;241m.\u001b[39mstr\u001b[38;5;241m.\u001b[39mreplace(\u001b[38;5;124m\"\u001b[39m\u001b[38;5;124m[\u001b[39m\u001b[38;5;124m\"\u001b[39m, \u001b[38;5;124m'\u001b[39m\u001b[38;5;124m'\u001b[39m)\n\u001b[0;32m      6\u001b[0m gdf[\u001b[38;5;124m'\u001b[39m\u001b[38;5;124mRevenue\u001b[39m\u001b[38;5;124m'\u001b[39m] \u001b[38;5;241m=\u001b[39m gdf[\u001b[38;5;124m'\u001b[39m\u001b[38;5;124mRevenue\u001b[39m\u001b[38;5;124m'\u001b[39m]\u001b[38;5;241m.\u001b[39mstr\u001b[38;5;241m.\u001b[39mreplace(\u001b[38;5;124m\"\u001b[39m\u001b[38;5;124m]\u001b[39m\u001b[38;5;124m\"\u001b[39m, \u001b[38;5;124m'\u001b[39m\u001b[38;5;124m'\u001b[39m)\n\u001b[1;32m----> 7\u001b[0m gdf[\u001b[38;5;124m'\u001b[39m\u001b[38;5;124mRevenue\u001b[39m\u001b[38;5;124m'\u001b[39m] \u001b[38;5;241m=\u001b[39m \u001b[43mgdf\u001b[49m\u001b[43m[\u001b[49m\u001b[38;5;124;43m'\u001b[39;49m\u001b[38;5;124;43mRevenue\u001b[39;49m\u001b[38;5;124;43m'\u001b[39;49m\u001b[43m]\u001b[49m\u001b[38;5;241;43m.\u001b[39;49m\u001b[43mastype\u001b[49m\u001b[43m(\u001b[49m\u001b[38;5;28;43mint\u001b[39;49m\u001b[43m)\u001b[49m\n",
      "File \u001b[1;32m~\\.conda\\envs\\python-gis\\lib\\site-packages\\pandas\\core\\generic.py:5920\u001b[0m, in \u001b[0;36mNDFrame.astype\u001b[1;34m(self, dtype, copy, errors)\u001b[0m\n\u001b[0;32m   5913\u001b[0m     results \u001b[38;5;241m=\u001b[39m [\n\u001b[0;32m   5914\u001b[0m         \u001b[38;5;28mself\u001b[39m\u001b[38;5;241m.\u001b[39miloc[:, i]\u001b[38;5;241m.\u001b[39mastype(dtype, copy\u001b[38;5;241m=\u001b[39mcopy)\n\u001b[0;32m   5915\u001b[0m         \u001b[38;5;28;01mfor\u001b[39;00m i \u001b[38;5;129;01min\u001b[39;00m \u001b[38;5;28mrange\u001b[39m(\u001b[38;5;28mlen\u001b[39m(\u001b[38;5;28mself\u001b[39m\u001b[38;5;241m.\u001b[39mcolumns))\n\u001b[0;32m   5916\u001b[0m     ]\n\u001b[0;32m   5918\u001b[0m \u001b[38;5;28;01melse\u001b[39;00m:\n\u001b[0;32m   5919\u001b[0m     \u001b[38;5;66;03m# else, only a single dtype is given\u001b[39;00m\n\u001b[1;32m-> 5920\u001b[0m     new_data \u001b[38;5;241m=\u001b[39m \u001b[38;5;28;43mself\u001b[39;49m\u001b[38;5;241;43m.\u001b[39;49m\u001b[43m_mgr\u001b[49m\u001b[38;5;241;43m.\u001b[39;49m\u001b[43mastype\u001b[49m\u001b[43m(\u001b[49m\u001b[43mdtype\u001b[49m\u001b[38;5;241;43m=\u001b[39;49m\u001b[43mdtype\u001b[49m\u001b[43m,\u001b[49m\u001b[43m \u001b[49m\u001b[43mcopy\u001b[49m\u001b[38;5;241;43m=\u001b[39;49m\u001b[43mcopy\u001b[49m\u001b[43m,\u001b[49m\u001b[43m \u001b[49m\u001b[43merrors\u001b[49m\u001b[38;5;241;43m=\u001b[39;49m\u001b[43merrors\u001b[49m\u001b[43m)\u001b[49m\n\u001b[0;32m   5921\u001b[0m     \u001b[38;5;28;01mreturn\u001b[39;00m \u001b[38;5;28mself\u001b[39m\u001b[38;5;241m.\u001b[39m_constructor(new_data)\u001b[38;5;241m.\u001b[39m__finalize__(\u001b[38;5;28mself\u001b[39m, method\u001b[38;5;241m=\u001b[39m\u001b[38;5;124m\"\u001b[39m\u001b[38;5;124mastype\u001b[39m\u001b[38;5;124m\"\u001b[39m)\n\u001b[0;32m   5923\u001b[0m \u001b[38;5;66;03m# GH 33113: handle empty frame or series\u001b[39;00m\n",
      "File \u001b[1;32m~\\.conda\\envs\\python-gis\\lib\\site-packages\\pandas\\core\\internals\\managers.py:419\u001b[0m, in \u001b[0;36mBaseBlockManager.astype\u001b[1;34m(self, dtype, copy, errors)\u001b[0m\n\u001b[0;32m    418\u001b[0m \u001b[38;5;28;01mdef\u001b[39;00m \u001b[38;5;21mastype\u001b[39m(\u001b[38;5;28mself\u001b[39m: T, dtype, copy: \u001b[38;5;28mbool\u001b[39m \u001b[38;5;241m=\u001b[39m \u001b[38;5;28;01mFalse\u001b[39;00m, errors: \u001b[38;5;28mstr\u001b[39m \u001b[38;5;241m=\u001b[39m \u001b[38;5;124m\"\u001b[39m\u001b[38;5;124mraise\u001b[39m\u001b[38;5;124m\"\u001b[39m) \u001b[38;5;241m-\u001b[39m\u001b[38;5;241m>\u001b[39m T:\n\u001b[1;32m--> 419\u001b[0m     \u001b[38;5;28;01mreturn\u001b[39;00m \u001b[38;5;28;43mself\u001b[39;49m\u001b[38;5;241;43m.\u001b[39;49m\u001b[43mapply\u001b[49m\u001b[43m(\u001b[49m\u001b[38;5;124;43m\"\u001b[39;49m\u001b[38;5;124;43mastype\u001b[39;49m\u001b[38;5;124;43m\"\u001b[39;49m\u001b[43m,\u001b[49m\u001b[43m \u001b[49m\u001b[43mdtype\u001b[49m\u001b[38;5;241;43m=\u001b[39;49m\u001b[43mdtype\u001b[49m\u001b[43m,\u001b[49m\u001b[43m \u001b[49m\u001b[43mcopy\u001b[49m\u001b[38;5;241;43m=\u001b[39;49m\u001b[43mcopy\u001b[49m\u001b[43m,\u001b[49m\u001b[43m \u001b[49m\u001b[43merrors\u001b[49m\u001b[38;5;241;43m=\u001b[39;49m\u001b[43merrors\u001b[49m\u001b[43m)\u001b[49m\n",
      "File \u001b[1;32m~\\.conda\\envs\\python-gis\\lib\\site-packages\\pandas\\core\\internals\\managers.py:304\u001b[0m, in \u001b[0;36mBaseBlockManager.apply\u001b[1;34m(self, f, align_keys, ignore_failures, **kwargs)\u001b[0m\n\u001b[0;32m    302\u001b[0m         applied \u001b[38;5;241m=\u001b[39m b\u001b[38;5;241m.\u001b[39mapply(f, \u001b[38;5;241m*\u001b[39m\u001b[38;5;241m*\u001b[39mkwargs)\n\u001b[0;32m    303\u001b[0m     \u001b[38;5;28;01melse\u001b[39;00m:\n\u001b[1;32m--> 304\u001b[0m         applied \u001b[38;5;241m=\u001b[39m \u001b[38;5;28mgetattr\u001b[39m(b, f)(\u001b[38;5;241m*\u001b[39m\u001b[38;5;241m*\u001b[39mkwargs)\n\u001b[0;32m    305\u001b[0m \u001b[38;5;28;01mexcept\u001b[39;00m (\u001b[38;5;167;01mTypeError\u001b[39;00m, \u001b[38;5;167;01mNotImplementedError\u001b[39;00m):\n\u001b[0;32m    306\u001b[0m     \u001b[38;5;28;01mif\u001b[39;00m \u001b[38;5;129;01mnot\u001b[39;00m ignore_failures:\n",
      "File \u001b[1;32m~\\.conda\\envs\\python-gis\\lib\\site-packages\\pandas\\core\\internals\\blocks.py:582\u001b[0m, in \u001b[0;36mBlock.astype\u001b[1;34m(self, dtype, copy, errors)\u001b[0m\n\u001b[0;32m    564\u001b[0m \u001b[38;5;124;03m\"\"\"\u001b[39;00m\n\u001b[0;32m    565\u001b[0m \u001b[38;5;124;03mCoerce to the new dtype.\u001b[39;00m\n\u001b[0;32m    566\u001b[0m \n\u001b[1;32m   (...)\u001b[0m\n\u001b[0;32m    578\u001b[0m \u001b[38;5;124;03mBlock\u001b[39;00m\n\u001b[0;32m    579\u001b[0m \u001b[38;5;124;03m\"\"\"\u001b[39;00m\n\u001b[0;32m    580\u001b[0m values \u001b[38;5;241m=\u001b[39m \u001b[38;5;28mself\u001b[39m\u001b[38;5;241m.\u001b[39mvalues\n\u001b[1;32m--> 582\u001b[0m new_values \u001b[38;5;241m=\u001b[39m \u001b[43mastype_array_safe\u001b[49m\u001b[43m(\u001b[49m\u001b[43mvalues\u001b[49m\u001b[43m,\u001b[49m\u001b[43m \u001b[49m\u001b[43mdtype\u001b[49m\u001b[43m,\u001b[49m\u001b[43m \u001b[49m\u001b[43mcopy\u001b[49m\u001b[38;5;241;43m=\u001b[39;49m\u001b[43mcopy\u001b[49m\u001b[43m,\u001b[49m\u001b[43m \u001b[49m\u001b[43merrors\u001b[49m\u001b[38;5;241;43m=\u001b[39;49m\u001b[43merrors\u001b[49m\u001b[43m)\u001b[49m\n\u001b[0;32m    584\u001b[0m new_values \u001b[38;5;241m=\u001b[39m maybe_coerce_values(new_values)\n\u001b[0;32m    585\u001b[0m newb \u001b[38;5;241m=\u001b[39m \u001b[38;5;28mself\u001b[39m\u001b[38;5;241m.\u001b[39mmake_block(new_values)\n",
      "File \u001b[1;32m~\\.conda\\envs\\python-gis\\lib\\site-packages\\pandas\\core\\dtypes\\cast.py:1292\u001b[0m, in \u001b[0;36mastype_array_safe\u001b[1;34m(values, dtype, copy, errors)\u001b[0m\n\u001b[0;32m   1289\u001b[0m     dtype \u001b[38;5;241m=\u001b[39m dtype\u001b[38;5;241m.\u001b[39mnumpy_dtype\n\u001b[0;32m   1291\u001b[0m \u001b[38;5;28;01mtry\u001b[39;00m:\n\u001b[1;32m-> 1292\u001b[0m     new_values \u001b[38;5;241m=\u001b[39m \u001b[43mastype_array\u001b[49m\u001b[43m(\u001b[49m\u001b[43mvalues\u001b[49m\u001b[43m,\u001b[49m\u001b[43m \u001b[49m\u001b[43mdtype\u001b[49m\u001b[43m,\u001b[49m\u001b[43m \u001b[49m\u001b[43mcopy\u001b[49m\u001b[38;5;241;43m=\u001b[39;49m\u001b[43mcopy\u001b[49m\u001b[43m)\u001b[49m\n\u001b[0;32m   1293\u001b[0m \u001b[38;5;28;01mexcept\u001b[39;00m (\u001b[38;5;167;01mValueError\u001b[39;00m, \u001b[38;5;167;01mTypeError\u001b[39;00m):\n\u001b[0;32m   1294\u001b[0m     \u001b[38;5;66;03m# e.g. astype_nansafe can fail on object-dtype of strings\u001b[39;00m\n\u001b[0;32m   1295\u001b[0m     \u001b[38;5;66;03m#  trying to convert to float\u001b[39;00m\n\u001b[0;32m   1296\u001b[0m     \u001b[38;5;28;01mif\u001b[39;00m errors \u001b[38;5;241m==\u001b[39m \u001b[38;5;124m\"\u001b[39m\u001b[38;5;124mignore\u001b[39m\u001b[38;5;124m\"\u001b[39m:\n",
      "File \u001b[1;32m~\\.conda\\envs\\python-gis\\lib\\site-packages\\pandas\\core\\dtypes\\cast.py:1237\u001b[0m, in \u001b[0;36mastype_array\u001b[1;34m(values, dtype, copy)\u001b[0m\n\u001b[0;32m   1234\u001b[0m     values \u001b[38;5;241m=\u001b[39m values\u001b[38;5;241m.\u001b[39mastype(dtype, copy\u001b[38;5;241m=\u001b[39mcopy)\n\u001b[0;32m   1236\u001b[0m \u001b[38;5;28;01melse\u001b[39;00m:\n\u001b[1;32m-> 1237\u001b[0m     values \u001b[38;5;241m=\u001b[39m \u001b[43mastype_nansafe\u001b[49m\u001b[43m(\u001b[49m\u001b[43mvalues\u001b[49m\u001b[43m,\u001b[49m\u001b[43m \u001b[49m\u001b[43mdtype\u001b[49m\u001b[43m,\u001b[49m\u001b[43m \u001b[49m\u001b[43mcopy\u001b[49m\u001b[38;5;241;43m=\u001b[39;49m\u001b[43mcopy\u001b[49m\u001b[43m)\u001b[49m\n\u001b[0;32m   1239\u001b[0m \u001b[38;5;66;03m# in pandas we don't store numpy str dtypes, so convert to object\u001b[39;00m\n\u001b[0;32m   1240\u001b[0m \u001b[38;5;28;01mif\u001b[39;00m \u001b[38;5;28misinstance\u001b[39m(dtype, np\u001b[38;5;241m.\u001b[39mdtype) \u001b[38;5;129;01mand\u001b[39;00m \u001b[38;5;28missubclass\u001b[39m(values\u001b[38;5;241m.\u001b[39mdtype\u001b[38;5;241m.\u001b[39mtype, \u001b[38;5;28mstr\u001b[39m):\n",
      "File \u001b[1;32m~\\.conda\\envs\\python-gis\\lib\\site-packages\\pandas\\core\\dtypes\\cast.py:1154\u001b[0m, in \u001b[0;36mastype_nansafe\u001b[1;34m(arr, dtype, copy, skipna)\u001b[0m\n\u001b[0;32m   1150\u001b[0m \u001b[38;5;28;01melif\u001b[39;00m is_object_dtype(arr\u001b[38;5;241m.\u001b[39mdtype):\n\u001b[0;32m   1151\u001b[0m \n\u001b[0;32m   1152\u001b[0m     \u001b[38;5;66;03m# work around NumPy brokenness, #1987\u001b[39;00m\n\u001b[0;32m   1153\u001b[0m     \u001b[38;5;28;01mif\u001b[39;00m np\u001b[38;5;241m.\u001b[39missubdtype(dtype\u001b[38;5;241m.\u001b[39mtype, np\u001b[38;5;241m.\u001b[39minteger):\n\u001b[1;32m-> 1154\u001b[0m         \u001b[38;5;28;01mreturn\u001b[39;00m \u001b[43mlib\u001b[49m\u001b[38;5;241;43m.\u001b[39;49m\u001b[43mastype_intsafe\u001b[49m\u001b[43m(\u001b[49m\u001b[43marr\u001b[49m\u001b[43m,\u001b[49m\u001b[43m \u001b[49m\u001b[43mdtype\u001b[49m\u001b[43m)\u001b[49m\n\u001b[0;32m   1156\u001b[0m     \u001b[38;5;66;03m# if we have a datetime/timedelta array of objects\u001b[39;00m\n\u001b[0;32m   1157\u001b[0m     \u001b[38;5;66;03m# then coerce to a proper dtype and recall astype_nansafe\u001b[39;00m\n\u001b[0;32m   1159\u001b[0m     \u001b[38;5;28;01melif\u001b[39;00m is_datetime64_dtype(dtype):\n",
      "File \u001b[1;32m~\\.conda\\envs\\python-gis\\lib\\site-packages\\pandas\\_libs\\lib.pyx:668\u001b[0m, in \u001b[0;36mpandas._libs.lib.astype_intsafe\u001b[1;34m()\u001b[0m\n",
      "\u001b[1;31mValueError\u001b[0m: invalid literal for int() with base 10: ''"
     ]
    }
   ],
   "source": [
    "gdf['Revenue'] = gdf['Revenue'].str.replace(',', '')\n",
    "gdf['Revenue'] = gdf['Revenue'].str.replace('$', '')\n",
    "gdf['Revenue'] = gdf['Revenue'].str.replace(\"a\", '')\n",
    "gdf['Revenue'] = gdf['Revenue'].str.replace(\"k\", '')\n",
    "gdf['Revenue'] = gdf['Revenue'].str.replace(\"[\", '')\n",
    "gdf['Revenue'] = gdf['Revenue'].str.replace(\"]\", '')\n",
    "gdf['Revenue'] = gdf['Revenue'].astype(int)"
   ]
  },
  {
   "cell_type": "code",
   "execution_count": null,
   "id": "eaecb8af-cf2a-4791-805f-3371913c2cfc",
   "metadata": {
    "tags": []
   },
   "outputs": [],
   "source": [
    "gdf.tail(100)"
   ]
  },
  {
   "cell_type": "code",
   "execution_count": 22,
   "id": "04fe5605-59dc-4711-beea-b5ded728fc56",
   "metadata": {},
   "outputs": [
    {
     "name": "stderr",
     "output_type": "stream",
     "text": [
      "C:\\Users\\Admin\\AppData\\Local\\Temp\\ipykernel_23272\\2837717327.py:3: FutureWarning: The default value of regex will change from True to False in a future version. In addition, single character regular expressions will *not* be treated as literal strings when regex=True.\n",
      "  gdf['Attendance'] = gdf['Attendance'].str.replace('[', '')\n",
      "C:\\Users\\Admin\\AppData\\Local\\Temp\\ipykernel_23272\\2837717327.py:4: FutureWarning: The default value of regex will change from True to False in a future version. In addition, single character regular expressions will *not* be treated as literal strings when regex=True.\n",
      "  gdf['Attendance'] = gdf['Attendance'].str.replace(']', '')\n"
     ]
    },
    {
     "ename": "ValueError",
     "evalue": "invalid literal for int() with base 10: ''",
     "output_type": "error",
     "traceback": [
      "\u001b[1;31m---------------------------------------------------------------------------\u001b[0m",
      "\u001b[1;31mValueError\u001b[0m                                Traceback (most recent call last)",
      "Input \u001b[1;32mIn [22]\u001b[0m, in \u001b[0;36m<module>\u001b[1;34m\u001b[0m\n\u001b[0;32m      5\u001b[0m gdf[\u001b[38;5;124m'\u001b[39m\u001b[38;5;124mAttendance\u001b[39m\u001b[38;5;124m'\u001b[39m] \u001b[38;5;241m=\u001b[39m gdf[\u001b[38;5;124m'\u001b[39m\u001b[38;5;124mAttendance\u001b[39m\u001b[38;5;124m'\u001b[39m]\u001b[38;5;241m.\u001b[39mstr\u001b[38;5;241m.\u001b[39mreplace(\u001b[38;5;124m'\u001b[39m\u001b[38;5;124ma\u001b[39m\u001b[38;5;124m'\u001b[39m, \u001b[38;5;124m'\u001b[39m\u001b[38;5;124m'\u001b[39m)\n\u001b[0;32m      6\u001b[0m gdf[\u001b[38;5;124m'\u001b[39m\u001b[38;5;124mAttendance\u001b[39m\u001b[38;5;124m'\u001b[39m] \u001b[38;5;241m=\u001b[39m gdf[\u001b[38;5;124m'\u001b[39m\u001b[38;5;124mAttendance\u001b[39m\u001b[38;5;124m'\u001b[39m]\u001b[38;5;241m.\u001b[39mstr\u001b[38;5;241m.\u001b[39mreplace(\u001b[38;5;124m'\u001b[39m\u001b[38;5;124mk\u001b[39m\u001b[38;5;124m'\u001b[39m, \u001b[38;5;124m'\u001b[39m\u001b[38;5;124m'\u001b[39m)\n\u001b[1;32m----> 7\u001b[0m gdf[\u001b[38;5;124m'\u001b[39m\u001b[38;5;124mAttendance\u001b[39m\u001b[38;5;124m'\u001b[39m] \u001b[38;5;241m=\u001b[39m \u001b[43mgdf\u001b[49m\u001b[43m[\u001b[49m\u001b[38;5;124;43m'\u001b[39;49m\u001b[38;5;124;43mAttendance\u001b[39;49m\u001b[38;5;124;43m'\u001b[39;49m\u001b[43m]\u001b[49m\u001b[38;5;241;43m.\u001b[39;49m\u001b[43mastype\u001b[49m\u001b[43m(\u001b[49m\u001b[38;5;28;43mint\u001b[39;49m\u001b[43m)\u001b[49m\n",
      "File \u001b[1;32m~\\.conda\\envs\\python-gis\\lib\\site-packages\\pandas\\core\\generic.py:5920\u001b[0m, in \u001b[0;36mNDFrame.astype\u001b[1;34m(self, dtype, copy, errors)\u001b[0m\n\u001b[0;32m   5913\u001b[0m     results \u001b[38;5;241m=\u001b[39m [\n\u001b[0;32m   5914\u001b[0m         \u001b[38;5;28mself\u001b[39m\u001b[38;5;241m.\u001b[39miloc[:, i]\u001b[38;5;241m.\u001b[39mastype(dtype, copy\u001b[38;5;241m=\u001b[39mcopy)\n\u001b[0;32m   5915\u001b[0m         \u001b[38;5;28;01mfor\u001b[39;00m i \u001b[38;5;129;01min\u001b[39;00m \u001b[38;5;28mrange\u001b[39m(\u001b[38;5;28mlen\u001b[39m(\u001b[38;5;28mself\u001b[39m\u001b[38;5;241m.\u001b[39mcolumns))\n\u001b[0;32m   5916\u001b[0m     ]\n\u001b[0;32m   5918\u001b[0m \u001b[38;5;28;01melse\u001b[39;00m:\n\u001b[0;32m   5919\u001b[0m     \u001b[38;5;66;03m# else, only a single dtype is given\u001b[39;00m\n\u001b[1;32m-> 5920\u001b[0m     new_data \u001b[38;5;241m=\u001b[39m \u001b[38;5;28;43mself\u001b[39;49m\u001b[38;5;241;43m.\u001b[39;49m\u001b[43m_mgr\u001b[49m\u001b[38;5;241;43m.\u001b[39;49m\u001b[43mastype\u001b[49m\u001b[43m(\u001b[49m\u001b[43mdtype\u001b[49m\u001b[38;5;241;43m=\u001b[39;49m\u001b[43mdtype\u001b[49m\u001b[43m,\u001b[49m\u001b[43m \u001b[49m\u001b[43mcopy\u001b[49m\u001b[38;5;241;43m=\u001b[39;49m\u001b[43mcopy\u001b[49m\u001b[43m,\u001b[49m\u001b[43m \u001b[49m\u001b[43merrors\u001b[49m\u001b[38;5;241;43m=\u001b[39;49m\u001b[43merrors\u001b[49m\u001b[43m)\u001b[49m\n\u001b[0;32m   5921\u001b[0m     \u001b[38;5;28;01mreturn\u001b[39;00m \u001b[38;5;28mself\u001b[39m\u001b[38;5;241m.\u001b[39m_constructor(new_data)\u001b[38;5;241m.\u001b[39m__finalize__(\u001b[38;5;28mself\u001b[39m, method\u001b[38;5;241m=\u001b[39m\u001b[38;5;124m\"\u001b[39m\u001b[38;5;124mastype\u001b[39m\u001b[38;5;124m\"\u001b[39m)\n\u001b[0;32m   5923\u001b[0m \u001b[38;5;66;03m# GH 33113: handle empty frame or series\u001b[39;00m\n",
      "File \u001b[1;32m~\\.conda\\envs\\python-gis\\lib\\site-packages\\pandas\\core\\internals\\managers.py:419\u001b[0m, in \u001b[0;36mBaseBlockManager.astype\u001b[1;34m(self, dtype, copy, errors)\u001b[0m\n\u001b[0;32m    418\u001b[0m \u001b[38;5;28;01mdef\u001b[39;00m \u001b[38;5;21mastype\u001b[39m(\u001b[38;5;28mself\u001b[39m: T, dtype, copy: \u001b[38;5;28mbool\u001b[39m \u001b[38;5;241m=\u001b[39m \u001b[38;5;28;01mFalse\u001b[39;00m, errors: \u001b[38;5;28mstr\u001b[39m \u001b[38;5;241m=\u001b[39m \u001b[38;5;124m\"\u001b[39m\u001b[38;5;124mraise\u001b[39m\u001b[38;5;124m\"\u001b[39m) \u001b[38;5;241m-\u001b[39m\u001b[38;5;241m>\u001b[39m T:\n\u001b[1;32m--> 419\u001b[0m     \u001b[38;5;28;01mreturn\u001b[39;00m \u001b[38;5;28;43mself\u001b[39;49m\u001b[38;5;241;43m.\u001b[39;49m\u001b[43mapply\u001b[49m\u001b[43m(\u001b[49m\u001b[38;5;124;43m\"\u001b[39;49m\u001b[38;5;124;43mastype\u001b[39;49m\u001b[38;5;124;43m\"\u001b[39;49m\u001b[43m,\u001b[49m\u001b[43m \u001b[49m\u001b[43mdtype\u001b[49m\u001b[38;5;241;43m=\u001b[39;49m\u001b[43mdtype\u001b[49m\u001b[43m,\u001b[49m\u001b[43m \u001b[49m\u001b[43mcopy\u001b[49m\u001b[38;5;241;43m=\u001b[39;49m\u001b[43mcopy\u001b[49m\u001b[43m,\u001b[49m\u001b[43m \u001b[49m\u001b[43merrors\u001b[49m\u001b[38;5;241;43m=\u001b[39;49m\u001b[43merrors\u001b[49m\u001b[43m)\u001b[49m\n",
      "File \u001b[1;32m~\\.conda\\envs\\python-gis\\lib\\site-packages\\pandas\\core\\internals\\managers.py:304\u001b[0m, in \u001b[0;36mBaseBlockManager.apply\u001b[1;34m(self, f, align_keys, ignore_failures, **kwargs)\u001b[0m\n\u001b[0;32m    302\u001b[0m         applied \u001b[38;5;241m=\u001b[39m b\u001b[38;5;241m.\u001b[39mapply(f, \u001b[38;5;241m*\u001b[39m\u001b[38;5;241m*\u001b[39mkwargs)\n\u001b[0;32m    303\u001b[0m     \u001b[38;5;28;01melse\u001b[39;00m:\n\u001b[1;32m--> 304\u001b[0m         applied \u001b[38;5;241m=\u001b[39m \u001b[38;5;28mgetattr\u001b[39m(b, f)(\u001b[38;5;241m*\u001b[39m\u001b[38;5;241m*\u001b[39mkwargs)\n\u001b[0;32m    305\u001b[0m \u001b[38;5;28;01mexcept\u001b[39;00m (\u001b[38;5;167;01mTypeError\u001b[39;00m, \u001b[38;5;167;01mNotImplementedError\u001b[39;00m):\n\u001b[0;32m    306\u001b[0m     \u001b[38;5;28;01mif\u001b[39;00m \u001b[38;5;129;01mnot\u001b[39;00m ignore_failures:\n",
      "File \u001b[1;32m~\\.conda\\envs\\python-gis\\lib\\site-packages\\pandas\\core\\internals\\blocks.py:582\u001b[0m, in \u001b[0;36mBlock.astype\u001b[1;34m(self, dtype, copy, errors)\u001b[0m\n\u001b[0;32m    564\u001b[0m \u001b[38;5;124;03m\"\"\"\u001b[39;00m\n\u001b[0;32m    565\u001b[0m \u001b[38;5;124;03mCoerce to the new dtype.\u001b[39;00m\n\u001b[0;32m    566\u001b[0m \n\u001b[1;32m   (...)\u001b[0m\n\u001b[0;32m    578\u001b[0m \u001b[38;5;124;03mBlock\u001b[39;00m\n\u001b[0;32m    579\u001b[0m \u001b[38;5;124;03m\"\"\"\u001b[39;00m\n\u001b[0;32m    580\u001b[0m values \u001b[38;5;241m=\u001b[39m \u001b[38;5;28mself\u001b[39m\u001b[38;5;241m.\u001b[39mvalues\n\u001b[1;32m--> 582\u001b[0m new_values \u001b[38;5;241m=\u001b[39m \u001b[43mastype_array_safe\u001b[49m\u001b[43m(\u001b[49m\u001b[43mvalues\u001b[49m\u001b[43m,\u001b[49m\u001b[43m \u001b[49m\u001b[43mdtype\u001b[49m\u001b[43m,\u001b[49m\u001b[43m \u001b[49m\u001b[43mcopy\u001b[49m\u001b[38;5;241;43m=\u001b[39;49m\u001b[43mcopy\u001b[49m\u001b[43m,\u001b[49m\u001b[43m \u001b[49m\u001b[43merrors\u001b[49m\u001b[38;5;241;43m=\u001b[39;49m\u001b[43merrors\u001b[49m\u001b[43m)\u001b[49m\n\u001b[0;32m    584\u001b[0m new_values \u001b[38;5;241m=\u001b[39m maybe_coerce_values(new_values)\n\u001b[0;32m    585\u001b[0m newb \u001b[38;5;241m=\u001b[39m \u001b[38;5;28mself\u001b[39m\u001b[38;5;241m.\u001b[39mmake_block(new_values)\n",
      "File \u001b[1;32m~\\.conda\\envs\\python-gis\\lib\\site-packages\\pandas\\core\\dtypes\\cast.py:1292\u001b[0m, in \u001b[0;36mastype_array_safe\u001b[1;34m(values, dtype, copy, errors)\u001b[0m\n\u001b[0;32m   1289\u001b[0m     dtype \u001b[38;5;241m=\u001b[39m dtype\u001b[38;5;241m.\u001b[39mnumpy_dtype\n\u001b[0;32m   1291\u001b[0m \u001b[38;5;28;01mtry\u001b[39;00m:\n\u001b[1;32m-> 1292\u001b[0m     new_values \u001b[38;5;241m=\u001b[39m \u001b[43mastype_array\u001b[49m\u001b[43m(\u001b[49m\u001b[43mvalues\u001b[49m\u001b[43m,\u001b[49m\u001b[43m \u001b[49m\u001b[43mdtype\u001b[49m\u001b[43m,\u001b[49m\u001b[43m \u001b[49m\u001b[43mcopy\u001b[49m\u001b[38;5;241;43m=\u001b[39;49m\u001b[43mcopy\u001b[49m\u001b[43m)\u001b[49m\n\u001b[0;32m   1293\u001b[0m \u001b[38;5;28;01mexcept\u001b[39;00m (\u001b[38;5;167;01mValueError\u001b[39;00m, \u001b[38;5;167;01mTypeError\u001b[39;00m):\n\u001b[0;32m   1294\u001b[0m     \u001b[38;5;66;03m# e.g. astype_nansafe can fail on object-dtype of strings\u001b[39;00m\n\u001b[0;32m   1295\u001b[0m     \u001b[38;5;66;03m#  trying to convert to float\u001b[39;00m\n\u001b[0;32m   1296\u001b[0m     \u001b[38;5;28;01mif\u001b[39;00m errors \u001b[38;5;241m==\u001b[39m \u001b[38;5;124m\"\u001b[39m\u001b[38;5;124mignore\u001b[39m\u001b[38;5;124m\"\u001b[39m:\n",
      "File \u001b[1;32m~\\.conda\\envs\\python-gis\\lib\\site-packages\\pandas\\core\\dtypes\\cast.py:1237\u001b[0m, in \u001b[0;36mastype_array\u001b[1;34m(values, dtype, copy)\u001b[0m\n\u001b[0;32m   1234\u001b[0m     values \u001b[38;5;241m=\u001b[39m values\u001b[38;5;241m.\u001b[39mastype(dtype, copy\u001b[38;5;241m=\u001b[39mcopy)\n\u001b[0;32m   1236\u001b[0m \u001b[38;5;28;01melse\u001b[39;00m:\n\u001b[1;32m-> 1237\u001b[0m     values \u001b[38;5;241m=\u001b[39m \u001b[43mastype_nansafe\u001b[49m\u001b[43m(\u001b[49m\u001b[43mvalues\u001b[49m\u001b[43m,\u001b[49m\u001b[43m \u001b[49m\u001b[43mdtype\u001b[49m\u001b[43m,\u001b[49m\u001b[43m \u001b[49m\u001b[43mcopy\u001b[49m\u001b[38;5;241;43m=\u001b[39;49m\u001b[43mcopy\u001b[49m\u001b[43m)\u001b[49m\n\u001b[0;32m   1239\u001b[0m \u001b[38;5;66;03m# in pandas we don't store numpy str dtypes, so convert to object\u001b[39;00m\n\u001b[0;32m   1240\u001b[0m \u001b[38;5;28;01mif\u001b[39;00m \u001b[38;5;28misinstance\u001b[39m(dtype, np\u001b[38;5;241m.\u001b[39mdtype) \u001b[38;5;129;01mand\u001b[39;00m \u001b[38;5;28missubclass\u001b[39m(values\u001b[38;5;241m.\u001b[39mdtype\u001b[38;5;241m.\u001b[39mtype, \u001b[38;5;28mstr\u001b[39m):\n",
      "File \u001b[1;32m~\\.conda\\envs\\python-gis\\lib\\site-packages\\pandas\\core\\dtypes\\cast.py:1154\u001b[0m, in \u001b[0;36mastype_nansafe\u001b[1;34m(arr, dtype, copy, skipna)\u001b[0m\n\u001b[0;32m   1150\u001b[0m \u001b[38;5;28;01melif\u001b[39;00m is_object_dtype(arr\u001b[38;5;241m.\u001b[39mdtype):\n\u001b[0;32m   1151\u001b[0m \n\u001b[0;32m   1152\u001b[0m     \u001b[38;5;66;03m# work around NumPy brokenness, #1987\u001b[39;00m\n\u001b[0;32m   1153\u001b[0m     \u001b[38;5;28;01mif\u001b[39;00m np\u001b[38;5;241m.\u001b[39missubdtype(dtype\u001b[38;5;241m.\u001b[39mtype, np\u001b[38;5;241m.\u001b[39minteger):\n\u001b[1;32m-> 1154\u001b[0m         \u001b[38;5;28;01mreturn\u001b[39;00m \u001b[43mlib\u001b[49m\u001b[38;5;241;43m.\u001b[39;49m\u001b[43mastype_intsafe\u001b[49m\u001b[43m(\u001b[49m\u001b[43marr\u001b[49m\u001b[43m,\u001b[49m\u001b[43m \u001b[49m\u001b[43mdtype\u001b[49m\u001b[43m)\u001b[49m\n\u001b[0;32m   1156\u001b[0m     \u001b[38;5;66;03m# if we have a datetime/timedelta array of objects\u001b[39;00m\n\u001b[0;32m   1157\u001b[0m     \u001b[38;5;66;03m# then coerce to a proper dtype and recall astype_nansafe\u001b[39;00m\n\u001b[0;32m   1159\u001b[0m     \u001b[38;5;28;01melif\u001b[39;00m is_datetime64_dtype(dtype):\n",
      "File \u001b[1;32m~\\.conda\\envs\\python-gis\\lib\\site-packages\\pandas\\_libs\\lib.pyx:668\u001b[0m, in \u001b[0;36mpandas._libs.lib.astype_intsafe\u001b[1;34m()\u001b[0m\n",
      "\u001b[1;31mValueError\u001b[0m: invalid literal for int() with base 10: ''"
     ]
    }
   ],
   "source": [
    "gdf['Attendance'] = gdf['Attendance'].str.split(' / ').str[0]\n",
    "gdf['Attendance'] = gdf['Attendance'].str.replace(',', '')\n",
    "gdf['Attendance'] = gdf['Attendance'].str.replace('[', '')\n",
    "gdf['Attendance'] = gdf['Attendance'].str.replace(']', '')\n",
    "gdf['Attendance'] = gdf['Attendance'].str.replace('a', '')\n",
    "gdf['Attendance'] = gdf['Attendance'].str.replace('k', '')\n",
    "gdf['Attendance'] = gdf['Attendance'].astype(int)"
   ]
  },
  {
   "cell_type": "code",
   "execution_count": 23,
   "id": "108b726e-69ae-41df-a854-5334cde2feb3",
   "metadata": {},
   "outputs": [
    {
     "data": {
      "text/html": [
       "<div>\n",
       "<style scoped>\n",
       "    .dataframe tbody tr th:only-of-type {\n",
       "        vertical-align: middle;\n",
       "    }\n",
       "\n",
       "    .dataframe tbody tr th {\n",
       "        vertical-align: top;\n",
       "    }\n",
       "\n",
       "    .dataframe thead th {\n",
       "        text-align: right;\n",
       "    }\n",
       "</style>\n",
       "<table border=\"1\" class=\"dataframe\">\n",
       "  <thead>\n",
       "    <tr style=\"text-align: right;\">\n",
       "      <th></th>\n",
       "      <th>Date</th>\n",
       "      <th>City</th>\n",
       "      <th>Country</th>\n",
       "      <th>Venue</th>\n",
       "      <th>Attendance</th>\n",
       "      <th>Revenue</th>\n",
       "      <th>location</th>\n",
       "      <th>location2</th>\n",
       "      <th>point</th>\n",
       "      <th>latitude</th>\n",
       "      <th>longitude</th>\n",
       "      <th>altitude</th>\n",
       "      <th>geometry</th>\n",
       "    </tr>\n",
       "  </thead>\n",
       "  <tbody>\n",
       "    <tr>\n",
       "      <th>0</th>\n",
       "      <td>April 15, 2013</td>\n",
       "      <td>Belgrade</td>\n",
       "      <td>Serbia</td>\n",
       "      <td>Kombank Arena</td>\n",
       "      <td>16719</td>\n",
       "      <td>834621</td>\n",
       "      <td>Belgrade, Serbia</td>\n",
       "      <td>(Београд, Градска општина Стари град, Град Бео...</td>\n",
       "      <td>(44.8178131, 20.4568974, 0.0)</td>\n",
       "      <td>44.817813</td>\n",
       "      <td>20.456897</td>\n",
       "      <td>0.0</td>\n",
       "      <td>POINT (20.45690 44.81781)</td>\n",
       "    </tr>\n",
       "    <tr>\n",
       "      <th>1</th>\n",
       "      <td>April 17, 2013</td>\n",
       "      <td>Zagreb</td>\n",
       "      <td>Croatia</td>\n",
       "      <td>Arena Zagreb</td>\n",
       "      <td>16920</td>\n",
       "      <td>932089</td>\n",
       "      <td>Zagreb, Croatia</td>\n",
       "      <td>(Zagreb, Grad Zagreb, Hrvatska, (45.8131847, 1...</td>\n",
       "      <td>(45.8131847, 15.9771774, 0.0)</td>\n",
       "      <td>45.813185</td>\n",
       "      <td>15.977177</td>\n",
       "      <td>0.0</td>\n",
       "      <td>POINT (15.97718 45.81318)</td>\n",
       "    </tr>\n",
       "    <tr>\n",
       "      <th>2</th>\n",
       "      <td>April 19, 2013</td>\n",
       "      <td>Bratislava</td>\n",
       "      <td>Slovakia</td>\n",
       "      <td>Ondrej Nepela Arena</td>\n",
       "      <td>8770</td>\n",
       "      <td>1163637</td>\n",
       "      <td>Bratislava, Slovakia</td>\n",
       "      <td>(Bratislava, Bratislavský kraj, Slovensko, (48...</td>\n",
       "      <td>(48.1516988, 17.1093063, 0.0)</td>\n",
       "      <td>48.151699</td>\n",
       "      <td>17.109306</td>\n",
       "      <td>0.0</td>\n",
       "      <td>POINT (17.10931 48.15170)</td>\n",
       "    </tr>\n",
       "    <tr>\n",
       "      <th>3</th>\n",
       "      <td>April 21, 2013</td>\n",
       "      <td>Amsterdam</td>\n",
       "      <td>Netherlands</td>\n",
       "      <td>Ziggo Dome</td>\n",
       "      <td>30897</td>\n",
       "      <td>2559806</td>\n",
       "      <td>Amsterdam, Netherlands</td>\n",
       "      <td>(Amsterdam, Noord-Holland, Nederland, (52.3727...</td>\n",
       "      <td>(52.3727598, 4.8936041, 0.0)</td>\n",
       "      <td>52.372760</td>\n",
       "      <td>4.893604</td>\n",
       "      <td>0.0</td>\n",
       "      <td>POINT (4.89360 52.37276)</td>\n",
       "    </tr>\n",
       "    <tr>\n",
       "      <th>4</th>\n",
       "      <td>April 22, 2013</td>\n",
       "      <td>Amsterdam</td>\n",
       "      <td>Netherlands</td>\n",
       "      <td>Ziggo Dome</td>\n",
       "      <td>30897</td>\n",
       "      <td>2559806</td>\n",
       "      <td>Amsterdam, Netherlands</td>\n",
       "      <td>(Amsterdam, Noord-Holland, Nederland, (52.3727...</td>\n",
       "      <td>(52.3727598, 4.8936041, 0.0)</td>\n",
       "      <td>52.372760</td>\n",
       "      <td>4.893604</td>\n",
       "      <td>0.0</td>\n",
       "      <td>POINT (4.89360 52.37276)</td>\n",
       "    </tr>\n",
       "  </tbody>\n",
       "</table>\n",
       "</div>"
      ],
      "text/plain": [
       "             Date        City      Country                Venue Attendance  \\\n",
       "0  April 15, 2013    Belgrade       Serbia        Kombank Arena      16719   \n",
       "1  April 17, 2013      Zagreb      Croatia         Arena Zagreb      16920   \n",
       "2  April 19, 2013  Bratislava     Slovakia  Ondrej Nepela Arena       8770   \n",
       "3  April 21, 2013   Amsterdam  Netherlands           Ziggo Dome      30897   \n",
       "4  April 22, 2013   Amsterdam  Netherlands           Ziggo Dome      30897   \n",
       "\n",
       "   Revenue                location  \\\n",
       "0   834621        Belgrade, Serbia   \n",
       "1   932089         Zagreb, Croatia   \n",
       "2  1163637    Bratislava, Slovakia   \n",
       "3  2559806  Amsterdam, Netherlands   \n",
       "4  2559806  Amsterdam, Netherlands   \n",
       "\n",
       "                                           location2  \\\n",
       "0  (Београд, Градска општина Стари град, Град Бео...   \n",
       "1  (Zagreb, Grad Zagreb, Hrvatska, (45.8131847, 1...   \n",
       "2  (Bratislava, Bratislavský kraj, Slovensko, (48...   \n",
       "3  (Amsterdam, Noord-Holland, Nederland, (52.3727...   \n",
       "4  (Amsterdam, Noord-Holland, Nederland, (52.3727...   \n",
       "\n",
       "                           point   latitude  longitude  altitude  \\\n",
       "0  (44.8178131, 20.4568974, 0.0)  44.817813  20.456897       0.0   \n",
       "1  (45.8131847, 15.9771774, 0.0)  45.813185  15.977177       0.0   \n",
       "2  (48.1516988, 17.1093063, 0.0)  48.151699  17.109306       0.0   \n",
       "3   (52.3727598, 4.8936041, 0.0)  52.372760   4.893604       0.0   \n",
       "4   (52.3727598, 4.8936041, 0.0)  52.372760   4.893604       0.0   \n",
       "\n",
       "                    geometry  \n",
       "0  POINT (20.45690 44.81781)  \n",
       "1  POINT (15.97718 45.81318)  \n",
       "2  POINT (17.10931 48.15170)  \n",
       "3   POINT (4.89360 52.37276)  \n",
       "4   POINT (4.89360 52.37276)  "
      ]
     },
     "execution_count": 23,
     "metadata": {},
     "output_type": "execute_result"
    }
   ],
   "source": [
    "gdf.head()"
   ]
  },
  {
   "cell_type": "code",
   "execution_count": 24,
   "id": "63ee746b-9b8d-4d94-8215-bca6bf959653",
   "metadata": {},
   "outputs": [],
   "source": [
    "new=gdf.copy()"
   ]
  },
  {
   "cell_type": "code",
   "execution_count": 29,
   "id": "ba1f6c13-db3c-4391-b14c-4154531cfcf8",
   "metadata": {
    "collapsed": true,
    "jupyter": {
     "outputs_hidden": true
    },
    "tags": []
   },
   "outputs": [
    {
     "name": "stderr",
     "output_type": "stream",
     "text": [
      "C:\\Users\\Admin\\AppData\\Local\\Temp\\ipykernel_23272\\2717374580.py:3: RuntimeWarning: More than 20 figures have been opened. Figures created through the pyplot interface (`matplotlib.pyplot.figure`) are retained until explicitly closed and may consume too much memory. (To control this warning, see the rcParam `figure.max_open_warning`).\n",
      "  fig, ax = plt.subplots(figsize=(15, 15))\n",
      "C:\\Users\\Admin\\AppData\\Local\\Temp\\ipykernel_23272\\2717374580.py:2: RuntimeWarning: More than 20 figures have been opened. Figures created through the pyplot interface (`matplotlib.pyplot.figure`) are retained until explicitly closed and may consume too much memory. (To control this warning, see the rcParam `figure.max_open_warning`).\n",
      "  fig = plt.figure(facecolor=\"black\")\n"
     ]
    },
    {
     "data": {
      "text/plain": [
       "<Figure size 432x288 with 0 Axes>"
      ]
     },
     "metadata": {},
     "output_type": "display_data"
    },
    {
     "data": {
      "text/plain": [
       "<Figure size 432x288 with 0 Axes>"
      ]
     },
     "metadata": {},
     "output_type": "display_data"
    },
    {
     "data": {
      "text/plain": [
       "<Figure size 432x288 with 0 Axes>"
      ]
     },
     "metadata": {},
     "output_type": "display_data"
    },
    {
     "data": {
      "text/plain": [
       "<Figure size 432x288 with 0 Axes>"
      ]
     },
     "metadata": {},
     "output_type": "display_data"
    },
    {
     "data": {
      "text/plain": [
       "<Figure size 432x288 with 0 Axes>"
      ]
     },
     "metadata": {},
     "output_type": "display_data"
    },
    {
     "data": {
      "text/plain": [
       "<Figure size 432x288 with 0 Axes>"
      ]
     },
     "metadata": {},
     "output_type": "display_data"
    },
    {
     "data": {
      "text/plain": [
       "<Figure size 432x288 with 0 Axes>"
      ]
     },
     "metadata": {},
     "output_type": "display_data"
    },
    {
     "data": {
      "text/plain": [
       "<Figure size 432x288 with 0 Axes>"
      ]
     },
     "metadata": {},
     "output_type": "display_data"
    },
    {
     "data": {
      "text/plain": [
       "<Figure size 432x288 with 0 Axes>"
      ]
     },
     "metadata": {},
     "output_type": "display_data"
    },
    {
     "data": {
      "text/plain": [
       "<Figure size 432x288 with 0 Axes>"
      ]
     },
     "metadata": {},
     "output_type": "display_data"
    },
    {
     "data": {
      "text/plain": [
       "<Figure size 432x288 with 0 Axes>"
      ]
     },
     "metadata": {},
     "output_type": "display_data"
    },
    {
     "data": {
      "text/plain": [
       "<Figure size 432x288 with 0 Axes>"
      ]
     },
     "metadata": {},
     "output_type": "display_data"
    },
    {
     "data": {
      "text/plain": [
       "<Figure size 432x288 with 0 Axes>"
      ]
     },
     "metadata": {},
     "output_type": "display_data"
    },
    {
     "data": {
      "text/plain": [
       "<Figure size 432x288 with 0 Axes>"
      ]
     },
     "metadata": {},
     "output_type": "display_data"
    },
    {
     "data": {
      "text/plain": [
       "<Figure size 432x288 with 0 Axes>"
      ]
     },
     "metadata": {},
     "output_type": "display_data"
    },
    {
     "data": {
      "text/plain": [
       "<Figure size 432x288 with 0 Axes>"
      ]
     },
     "metadata": {},
     "output_type": "display_data"
    },
    {
     "data": {
      "text/plain": [
       "<Figure size 432x288 with 0 Axes>"
      ]
     },
     "metadata": {},
     "output_type": "display_data"
    },
    {
     "data": {
      "text/plain": [
       "<Figure size 432x288 with 0 Axes>"
      ]
     },
     "metadata": {},
     "output_type": "display_data"
    },
    {
     "data": {
      "text/plain": [
       "<Figure size 432x288 with 0 Axes>"
      ]
     },
     "metadata": {},
     "output_type": "display_data"
    },
    {
     "data": {
      "text/plain": [
       "<Figure size 432x288 with 0 Axes>"
      ]
     },
     "metadata": {},
     "output_type": "display_data"
    },
    {
     "data": {
      "text/plain": [
       "<Figure size 432x288 with 0 Axes>"
      ]
     },
     "metadata": {},
     "output_type": "display_data"
    },
    {
     "data": {
      "text/plain": [
       "<Figure size 432x288 with 0 Axes>"
      ]
     },
     "metadata": {},
     "output_type": "display_data"
    },
    {
     "data": {
      "text/plain": [
       "<Figure size 432x288 with 0 Axes>"
      ]
     },
     "metadata": {},
     "output_type": "display_data"
    },
    {
     "data": {
      "text/plain": [
       "<Figure size 432x288 with 0 Axes>"
      ]
     },
     "metadata": {},
     "output_type": "display_data"
    },
    {
     "data": {
      "text/plain": [
       "<Figure size 432x288 with 0 Axes>"
      ]
     },
     "metadata": {},
     "output_type": "display_data"
    },
    {
     "data": {
      "text/plain": [
       "<Figure size 432x288 with 0 Axes>"
      ]
     },
     "metadata": {},
     "output_type": "display_data"
    },
    {
     "data": {
      "text/plain": [
       "<Figure size 432x288 with 0 Axes>"
      ]
     },
     "metadata": {},
     "output_type": "display_data"
    },
    {
     "data": {
      "text/plain": [
       "<Figure size 432x288 with 0 Axes>"
      ]
     },
     "metadata": {},
     "output_type": "display_data"
    },
    {
     "data": {
      "text/plain": [
       "<Figure size 432x288 with 0 Axes>"
      ]
     },
     "metadata": {},
     "output_type": "display_data"
    },
    {
     "data": {
      "text/plain": [
       "<Figure size 432x288 with 0 Axes>"
      ]
     },
     "metadata": {},
     "output_type": "display_data"
    },
    {
     "data": {
      "text/plain": [
       "<Figure size 432x288 with 0 Axes>"
      ]
     },
     "metadata": {},
     "output_type": "display_data"
    },
    {
     "data": {
      "text/plain": [
       "<Figure size 432x288 with 0 Axes>"
      ]
     },
     "metadata": {},
     "output_type": "display_data"
    },
    {
     "data": {
      "text/plain": [
       "<Figure size 432x288 with 0 Axes>"
      ]
     },
     "metadata": {},
     "output_type": "display_data"
    },
    {
     "data": {
      "text/plain": [
       "<Figure size 432x288 with 0 Axes>"
      ]
     },
     "metadata": {},
     "output_type": "display_data"
    },
    {
     "data": {
      "text/plain": [
       "<Figure size 432x288 with 0 Axes>"
      ]
     },
     "metadata": {},
     "output_type": "display_data"
    },
    {
     "data": {
      "text/plain": [
       "<Figure size 432x288 with 0 Axes>"
      ]
     },
     "metadata": {},
     "output_type": "display_data"
    },
    {
     "data": {
      "text/plain": [
       "<Figure size 432x288 with 0 Axes>"
      ]
     },
     "metadata": {},
     "output_type": "display_data"
    },
    {
     "data": {
      "text/plain": [
       "<Figure size 432x288 with 0 Axes>"
      ]
     },
     "metadata": {},
     "output_type": "display_data"
    },
    {
     "data": {
      "text/plain": [
       "<Figure size 432x288 with 0 Axes>"
      ]
     },
     "metadata": {},
     "output_type": "display_data"
    },
    {
     "data": {
      "text/plain": [
       "<Figure size 432x288 with 0 Axes>"
      ]
     },
     "metadata": {},
     "output_type": "display_data"
    },
    {
     "data": {
      "text/plain": [
       "<Figure size 432x288 with 0 Axes>"
      ]
     },
     "metadata": {},
     "output_type": "display_data"
    },
    {
     "data": {
      "text/plain": [
       "<Figure size 432x288 with 0 Axes>"
      ]
     },
     "metadata": {},
     "output_type": "display_data"
    },
    {
     "data": {
      "text/plain": [
       "<Figure size 432x288 with 0 Axes>"
      ]
     },
     "metadata": {},
     "output_type": "display_data"
    },
    {
     "data": {
      "text/plain": [
       "<Figure size 432x288 with 0 Axes>"
      ]
     },
     "metadata": {},
     "output_type": "display_data"
    },
    {
     "data": {
      "text/plain": [
       "<Figure size 432x288 with 0 Axes>"
      ]
     },
     "metadata": {},
     "output_type": "display_data"
    },
    {
     "data": {
      "text/plain": [
       "<Figure size 432x288 with 0 Axes>"
      ]
     },
     "metadata": {},
     "output_type": "display_data"
    },
    {
     "data": {
      "text/plain": [
       "<Figure size 432x288 with 0 Axes>"
      ]
     },
     "metadata": {},
     "output_type": "display_data"
    },
    {
     "data": {
      "text/plain": [
       "<Figure size 432x288 with 0 Axes>"
      ]
     },
     "metadata": {},
     "output_type": "display_data"
    },
    {
     "data": {
      "text/plain": [
       "<Figure size 432x288 with 0 Axes>"
      ]
     },
     "metadata": {},
     "output_type": "display_data"
    },
    {
     "data": {
      "text/plain": [
       "<Figure size 432x288 with 0 Axes>"
      ]
     },
     "metadata": {},
     "output_type": "display_data"
    },
    {
     "data": {
      "text/plain": [
       "<Figure size 432x288 with 0 Axes>"
      ]
     },
     "metadata": {},
     "output_type": "display_data"
    },
    {
     "data": {
      "text/plain": [
       "<Figure size 432x288 with 0 Axes>"
      ]
     },
     "metadata": {},
     "output_type": "display_data"
    },
    {
     "data": {
      "text/plain": [
       "<Figure size 432x288 with 0 Axes>"
      ]
     },
     "metadata": {},
     "output_type": "display_data"
    },
    {
     "data": {
      "text/plain": [
       "<Figure size 432x288 with 0 Axes>"
      ]
     },
     "metadata": {},
     "output_type": "display_data"
    },
    {
     "data": {
      "text/plain": [
       "<Figure size 432x288 with 0 Axes>"
      ]
     },
     "metadata": {},
     "output_type": "display_data"
    },
    {
     "data": {
      "text/plain": [
       "<Figure size 432x288 with 0 Axes>"
      ]
     },
     "metadata": {},
     "output_type": "display_data"
    },
    {
     "data": {
      "text/plain": [
       "<Figure size 432x288 with 0 Axes>"
      ]
     },
     "metadata": {},
     "output_type": "display_data"
    },
    {
     "data": {
      "text/plain": [
       "<Figure size 432x288 with 0 Axes>"
      ]
     },
     "metadata": {},
     "output_type": "display_data"
    },
    {
     "data": {
      "text/plain": [
       "<Figure size 432x288 with 0 Axes>"
      ]
     },
     "metadata": {},
     "output_type": "display_data"
    },
    {
     "data": {
      "text/plain": [
       "<Figure size 432x288 with 0 Axes>"
      ]
     },
     "metadata": {},
     "output_type": "display_data"
    },
    {
     "data": {
      "text/plain": [
       "<Figure size 432x288 with 0 Axes>"
      ]
     },
     "metadata": {},
     "output_type": "display_data"
    },
    {
     "data": {
      "text/plain": [
       "<Figure size 432x288 with 0 Axes>"
      ]
     },
     "metadata": {},
     "output_type": "display_data"
    },
    {
     "data": {
      "text/plain": [
       "<Figure size 432x288 with 0 Axes>"
      ]
     },
     "metadata": {},
     "output_type": "display_data"
    },
    {
     "data": {
      "text/plain": [
       "<Figure size 432x288 with 0 Axes>"
      ]
     },
     "metadata": {},
     "output_type": "display_data"
    },
    {
     "data": {
      "text/plain": [
       "<Figure size 432x288 with 0 Axes>"
      ]
     },
     "metadata": {},
     "output_type": "display_data"
    },
    {
     "data": {
      "text/plain": [
       "<Figure size 432x288 with 0 Axes>"
      ]
     },
     "metadata": {},
     "output_type": "display_data"
    },
    {
     "data": {
      "text/plain": [
       "<Figure size 432x288 with 0 Axes>"
      ]
     },
     "metadata": {},
     "output_type": "display_data"
    },
    {
     "data": {
      "text/plain": [
       "<Figure size 432x288 with 0 Axes>"
      ]
     },
     "metadata": {},
     "output_type": "display_data"
    },
    {
     "data": {
      "text/plain": [
       "<Figure size 432x288 with 0 Axes>"
      ]
     },
     "metadata": {},
     "output_type": "display_data"
    },
    {
     "data": {
      "text/plain": [
       "<Figure size 432x288 with 0 Axes>"
      ]
     },
     "metadata": {},
     "output_type": "display_data"
    },
    {
     "data": {
      "text/plain": [
       "<Figure size 432x288 with 0 Axes>"
      ]
     },
     "metadata": {},
     "output_type": "display_data"
    },
    {
     "data": {
      "text/plain": [
       "<Figure size 432x288 with 0 Axes>"
      ]
     },
     "metadata": {},
     "output_type": "display_data"
    },
    {
     "data": {
      "text/plain": [
       "<Figure size 432x288 with 0 Axes>"
      ]
     },
     "metadata": {},
     "output_type": "display_data"
    },
    {
     "data": {
      "text/plain": [
       "<Figure size 432x288 with 0 Axes>"
      ]
     },
     "metadata": {},
     "output_type": "display_data"
    },
    {
     "data": {
      "text/plain": [
       "<Figure size 432x288 with 0 Axes>"
      ]
     },
     "metadata": {},
     "output_type": "display_data"
    },
    {
     "data": {
      "text/plain": [
       "<Figure size 432x288 with 0 Axes>"
      ]
     },
     "metadata": {},
     "output_type": "display_data"
    },
    {
     "data": {
      "text/plain": [
       "<Figure size 432x288 with 0 Axes>"
      ]
     },
     "metadata": {},
     "output_type": "display_data"
    },
    {
     "data": {
      "text/plain": [
       "<Figure size 432x288 with 0 Axes>"
      ]
     },
     "metadata": {},
     "output_type": "display_data"
    },
    {
     "data": {
      "text/plain": [
       "<Figure size 432x288 with 0 Axes>"
      ]
     },
     "metadata": {},
     "output_type": "display_data"
    },
    {
     "data": {
      "text/plain": [
       "<Figure size 432x288 with 0 Axes>"
      ]
     },
     "metadata": {},
     "output_type": "display_data"
    },
    {
     "data": {
      "text/plain": [
       "<Figure size 432x288 with 0 Axes>"
      ]
     },
     "metadata": {},
     "output_type": "display_data"
    },
    {
     "data": {
      "text/plain": [
       "<Figure size 432x288 with 0 Axes>"
      ]
     },
     "metadata": {},
     "output_type": "display_data"
    },
    {
     "data": {
      "text/plain": [
       "<Figure size 432x288 with 0 Axes>"
      ]
     },
     "metadata": {},
     "output_type": "display_data"
    },
    {
     "data": {
      "text/plain": [
       "<Figure size 432x288 with 0 Axes>"
      ]
     },
     "metadata": {},
     "output_type": "display_data"
    },
    {
     "data": {
      "text/plain": [
       "<Figure size 432x288 with 0 Axes>"
      ]
     },
     "metadata": {},
     "output_type": "display_data"
    },
    {
     "data": {
      "text/plain": [
       "<Figure size 432x288 with 0 Axes>"
      ]
     },
     "metadata": {},
     "output_type": "display_data"
    },
    {
     "data": {
      "text/plain": [
       "<Figure size 432x288 with 0 Axes>"
      ]
     },
     "metadata": {},
     "output_type": "display_data"
    },
    {
     "data": {
      "text/plain": [
       "<Figure size 432x288 with 0 Axes>"
      ]
     },
     "metadata": {},
     "output_type": "display_data"
    },
    {
     "data": {
      "text/plain": [
       "<Figure size 432x288 with 0 Axes>"
      ]
     },
     "metadata": {},
     "output_type": "display_data"
    },
    {
     "data": {
      "text/plain": [
       "<Figure size 432x288 with 0 Axes>"
      ]
     },
     "metadata": {},
     "output_type": "display_data"
    },
    {
     "data": {
      "text/plain": [
       "<Figure size 432x288 with 0 Axes>"
      ]
     },
     "metadata": {},
     "output_type": "display_data"
    },
    {
     "data": {
      "text/plain": [
       "<Figure size 432x288 with 0 Axes>"
      ]
     },
     "metadata": {},
     "output_type": "display_data"
    },
    {
     "data": {
      "text/plain": [
       "<Figure size 432x288 with 0 Axes>"
      ]
     },
     "metadata": {},
     "output_type": "display_data"
    },
    {
     "data": {
      "text/plain": [
       "<Figure size 432x288 with 0 Axes>"
      ]
     },
     "metadata": {},
     "output_type": "display_data"
    },
    {
     "data": {
      "text/plain": [
       "<Figure size 432x288 with 0 Axes>"
      ]
     },
     "metadata": {},
     "output_type": "display_data"
    },
    {
     "data": {
      "text/plain": [
       "<Figure size 432x288 with 0 Axes>"
      ]
     },
     "metadata": {},
     "output_type": "display_data"
    },
    {
     "data": {
      "text/plain": [
       "<Figure size 432x288 with 0 Axes>"
      ]
     },
     "metadata": {},
     "output_type": "display_data"
    },
    {
     "data": {
      "text/plain": [
       "<Figure size 432x288 with 0 Axes>"
      ]
     },
     "metadata": {},
     "output_type": "display_data"
    },
    {
     "data": {
      "text/plain": [
       "<Figure size 432x288 with 0 Axes>"
      ]
     },
     "metadata": {},
     "output_type": "display_data"
    },
    {
     "data": {
      "text/plain": [
       "<Figure size 432x288 with 0 Axes>"
      ]
     },
     "metadata": {},
     "output_type": "display_data"
    },
    {
     "data": {
      "text/plain": [
       "<Figure size 432x288 with 0 Axes>"
      ]
     },
     "metadata": {},
     "output_type": "display_data"
    },
    {
     "data": {
      "text/plain": [
       "<Figure size 432x288 with 0 Axes>"
      ]
     },
     "metadata": {},
     "output_type": "display_data"
    },
    {
     "data": {
      "text/plain": [
       "<Figure size 432x288 with 0 Axes>"
      ]
     },
     "metadata": {},
     "output_type": "display_data"
    },
    {
     "data": {
      "text/plain": [
       "<Figure size 432x288 with 0 Axes>"
      ]
     },
     "metadata": {},
     "output_type": "display_data"
    },
    {
     "data": {
      "text/plain": [
       "<Figure size 432x288 with 0 Axes>"
      ]
     },
     "metadata": {},
     "output_type": "display_data"
    },
    {
     "data": {
      "text/plain": [
       "<Figure size 432x288 with 0 Axes>"
      ]
     },
     "metadata": {},
     "output_type": "display_data"
    },
    {
     "data": {
      "text/plain": [
       "<Figure size 432x288 with 0 Axes>"
      ]
     },
     "metadata": {},
     "output_type": "display_data"
    },
    {
     "data": {
      "text/plain": [
       "<Figure size 432x288 with 0 Axes>"
      ]
     },
     "metadata": {},
     "output_type": "display_data"
    },
    {
     "data": {
      "text/plain": [
       "<Figure size 432x288 with 0 Axes>"
      ]
     },
     "metadata": {},
     "output_type": "display_data"
    },
    {
     "data": {
      "text/plain": [
       "<Figure size 432x288 with 0 Axes>"
      ]
     },
     "metadata": {},
     "output_type": "display_data"
    },
    {
     "data": {
      "text/plain": [
       "<Figure size 432x288 with 0 Axes>"
      ]
     },
     "metadata": {},
     "output_type": "display_data"
    },
    {
     "data": {
      "text/plain": [
       "<Figure size 432x288 with 0 Axes>"
      ]
     },
     "metadata": {},
     "output_type": "display_data"
    },
    {
     "data": {
      "text/plain": [
       "<Figure size 432x288 with 0 Axes>"
      ]
     },
     "metadata": {},
     "output_type": "display_data"
    },
    {
     "data": {
      "text/plain": [
       "<Figure size 432x288 with 0 Axes>"
      ]
     },
     "metadata": {},
     "output_type": "display_data"
    },
    {
     "data": {
      "text/plain": [
       "<Figure size 432x288 with 0 Axes>"
      ]
     },
     "metadata": {},
     "output_type": "display_data"
    },
    {
     "data": {
      "text/plain": [
       "<Figure size 432x288 with 0 Axes>"
      ]
     },
     "metadata": {},
     "output_type": "display_data"
    },
    {
     "data": {
      "text/plain": [
       "<Figure size 432x288 with 0 Axes>"
      ]
     },
     "metadata": {},
     "output_type": "display_data"
    },
    {
     "data": {
      "text/plain": [
       "<Figure size 432x288 with 0 Axes>"
      ]
     },
     "metadata": {},
     "output_type": "display_data"
    },
    {
     "data": {
      "text/plain": [
       "<Figure size 432x288 with 0 Axes>"
      ]
     },
     "metadata": {},
     "output_type": "display_data"
    },
    {
     "data": {
      "text/plain": [
       "<Figure size 432x288 with 0 Axes>"
      ]
     },
     "metadata": {},
     "output_type": "display_data"
    },
    {
     "data": {
      "text/plain": [
       "<Figure size 432x288 with 0 Axes>"
      ]
     },
     "metadata": {},
     "output_type": "display_data"
    },
    {
     "data": {
      "text/plain": [
       "<Figure size 432x288 with 0 Axes>"
      ]
     },
     "metadata": {},
     "output_type": "display_data"
    },
    {
     "data": {
      "text/plain": [
       "<Figure size 432x288 with 0 Axes>"
      ]
     },
     "metadata": {},
     "output_type": "display_data"
    },
    {
     "data": {
      "text/plain": [
       "<Figure size 432x288 with 0 Axes>"
      ]
     },
     "metadata": {},
     "output_type": "display_data"
    },
    {
     "data": {
      "text/plain": [
       "<Figure size 432x288 with 0 Axes>"
      ]
     },
     "metadata": {},
     "output_type": "display_data"
    },
    {
     "data": {
      "text/plain": [
       "<Figure size 432x288 with 0 Axes>"
      ]
     },
     "metadata": {},
     "output_type": "display_data"
    },
    {
     "data": {
      "text/plain": [
       "<Figure size 432x288 with 0 Axes>"
      ]
     },
     "metadata": {},
     "output_type": "display_data"
    },
    {
     "data": {
      "text/plain": [
       "<Figure size 432x288 with 0 Axes>"
      ]
     },
     "metadata": {},
     "output_type": "display_data"
    },
    {
     "data": {
      "text/plain": [
       "<Figure size 432x288 with 0 Axes>"
      ]
     },
     "metadata": {},
     "output_type": "display_data"
    },
    {
     "data": {
      "text/plain": [
       "<Figure size 432x288 with 0 Axes>"
      ]
     },
     "metadata": {},
     "output_type": "display_data"
    },
    {
     "data": {
      "text/plain": [
       "<Figure size 432x288 with 0 Axes>"
      ]
     },
     "metadata": {},
     "output_type": "display_data"
    },
    {
     "data": {
      "text/plain": [
       "<Figure size 432x288 with 0 Axes>"
      ]
     },
     "metadata": {},
     "output_type": "display_data"
    }
   ],
   "source": [
    "for i in range(len(gdf)):\n",
    "    fig = plt.figure(facecolor=\"black\")\n",
    "    fig, ax = plt.subplots(figsize=(15, 15))\n",
    "    lat = gdf.latitude[i]\n",
    "    lon = gdf.longitude[i]\n",
    "    ortho = CRS.from_proj4(\"+proj=ortho +lat_0={} +lon_0={} +x_0=0 +y_0=0 +a=6370997 +b=6370997 +units=m +no_defs\".format(lat, lon))\n",
    "    ortho = world.to_crs(ortho)\n",
    "    plt.style.context('Solarize_Light2')\n",
    "    new.loc[[i], 'geometry'].buffer(6400000).plot(\n",
    "        color='#F3F4ED',\n",
    "        alpha=0.9, \n",
    "        edgecolor='black',\n",
    "        ax=ax,\n",
    "        linewidth=2,\n",
    "    )\n",
    "    ortho.plot(\n",
    "        color='#536162',\n",
    "        edgecolor='none',\n",
    "        ax=ax,\n",
    "    )\n",
    "    gdf.loc[[i], 'geometry'].plot(\n",
    "        facecolors='#FF5F00', \n",
    "        ax=ax, \n",
    "        #alpha=0.9, \n",
    "        edgecolor='#FF5F00', \n",
    "        linewidth=0.7,\n",
    "    )\n",
    "    plt.title(str(gdf.iloc[i]['location']) + ' - ' + str(gdf.iloc[i]['Date']),  fontname=\"Special Elite\", color=\"black\", fontsize=\"20\")\n",
    "    plt.axis('off')\n",
    "    filename = \"images/fig\" + str(i) + \".jpg\"\n",
    "    fig.savefig(filename)\n",
    "    plt.close(fig)"
   ]
  },
  {
   "cell_type": "code",
   "execution_count": null,
   "id": "9694df7e-4171-4a76-a449-37a5ef5566a8",
   "metadata": {},
   "outputs": [],
   "source": []
  }
 ],
 "metadata": {
  "kernelspec": {
   "display_name": "Python 3 (ipykernel)",
   "language": "python",
   "name": "python3"
  },
  "language_info": {
   "codemirror_mode": {
    "name": "ipython",
    "version": 3
   },
   "file_extension": ".py",
   "mimetype": "text/x-python",
   "name": "python",
   "nbconvert_exporter": "python",
   "pygments_lexer": "ipython3",
   "version": "3.10.2"
  }
 },
 "nbformat": 4,
 "nbformat_minor": 5
}
